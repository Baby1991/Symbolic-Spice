{
 "cells": [
  {
   "cell_type": "code",
   "execution_count": null,
   "metadata": {},
   "outputs": [],
   "source": [
    "%matplotlib widget\n",
    "from main import *\n",
    "import sympy as sp\n",
    "from sympy import Heaviside, sin, cos\n",
    "sp.init_printing()"
   ]
  },
  {
   "cell_type": "code",
   "execution_count": null,
   "metadata": {},
   "outputs": [],
   "source": [
    "Vcc = 5\n",
    "\n",
    "Vin = 5 * sin(t)"
   ]
  },
  {
   "cell_type": "code",
   "execution_count": null,
   "metadata": {},
   "outputs": [],
   "source": [
    "acTest = Solver.Circuit(\"acTest\")\n",
    "acTest.element(\n",
    "                    VoltageSource(\"Vg1\", {\"V+\" : \"V1\", \"V-\" : Gnd}, V_t = Vin),\n",
    "                    VoltageSource(\"Vg2\", {\"V+\" : Gnd, \"V-\" : \"V2\"}, V_t = Vin),\n",
    "                    \n",
    "                    Diode(\"D1\", {\"Vp\" : \"V1\", \"Vn\" : \"V3\"}),\n",
    "                    Diode(\"D2\", {\"Vp\" : \"V2\", \"Vn\" : \"V3\"}),\n",
    "                    \n",
    "                    Resistor(\"R1\", {\"V1\" : \"V3\", \"V2\" : \"Vc\"}, R = 1),\n",
    "                    \n",
    "                    #Resistor(\"R2\", {\"V1\" : \"Vc\", \"V2\" : Gnd}, R = 1e5),\n",
    "                    CurrentSource(\"Iout\", {\"V+\" : \"Vc\", \"V-\" : Gnd}, I_t = -1e-3),\n",
    "                    Capacitor(\"C1\", {\"V1\" : \"Vc\", \"V2\" : Gnd}, V0 = 3.5, C = 5e-3),\n",
    ")"
   ]
  },
  {
   "cell_type": "code",
   "execution_count": null,
   "metadata": {},
   "outputs": [],
   "source": [
    "Solver.setMain(\"acTest\")\n",
    "compiled = Solver.compile()"
   ]
  },
  {
   "cell_type": "code",
   "execution_count": null,
   "metadata": {},
   "outputs": [],
   "source": [
    "model = solveLaplace(compiled, 3 * sp.pi, 0.1, debugLog = False)"
   ]
  },
  {
   "cell_type": "code",
   "execution_count": null,
   "metadata": {},
   "outputs": [],
   "source": [
    "print(compiled[\"nodes\"])\n",
    "\n",
    "Vin = compiled[\"voltages\"][\"Vg1\"][\"V+\"]\n",
    "Id1 = compiled[\"currents\"][\"D1\"][\"Vp\"]\n",
    "Id2 = compiled[\"currents\"][\"D2\"][\"Vp\"]\n",
    "Id = compiled[\"currents\"][\"R1\"][\"V1\"]\n",
    "Vd = compiled[\"voltages\"][\"D1\"][\"Vp\"] - compiled[\"voltages\"][\"D1\"][\"Vn\"]\n",
    "Vc = compiled[\"nodes\"][\"Vc\"]\n",
    "Iout = compiled[\"currents\"][\"Iout\"][\"V+\"]"
   ]
  },
  {
   "cell_type": "code",
   "execution_count": null,
   "metadata": {},
   "outputs": [],
   "source": [
    "printModel(model, var=t, important={Id})"
   ]
  },
  {
   "cell_type": "code",
   "execution_count": null,
   "metadata": {},
   "outputs": [],
   "source": [
    "measurments =   [   \n",
    "                    (Vin, \"Vin(t)\"),\n",
    "                    (Vc, \"Vc(t)\"),\n",
    "                ]\n",
    "\n",
    "fig, ax = plt.subplots(figsize=[15, 7])\n",
    "\n",
    "plotTranMeasurments(model, 0, 10, 0.01, measurments, ax)\n",
    "#plotMeasurments(model, -10, 10, 0.1, measurments)\n",
    "#plt.legend(loc=\"best\");\n",
    "plt.grid(True);\n",
    "plt.show()"
   ]
  },
  {
   "cell_type": "code",
   "execution_count": null,
   "metadata": {},
   "outputs": [],
   "source": [
    "measurments =   [   \n",
    "                    (1e3 * Iout, \"Iout(t)\"),\n",
    "                    (1e3 * Id, \"Id(t)\"),\n",
    "                    #(Vd, \"Vd(t)\"),\n",
    "                ]\n",
    "\n",
    "fig, ax = plt.subplots(figsize=[15, 7])\n",
    "\n",
    "plotTranMeasurments(model, 0, 10, 0.01, measurments, ax)\n",
    "#plotMeasurments(model, -10, 10, 0.1, measurments)\n",
    "#plt.legend(loc=\"best\");\n",
    "plt.grid(True);\n",
    "plt.show()"
   ]
  }
 ],
 "metadata": {
  "kernelspec": {
   "display_name": "Python 3",
   "language": "python",
   "name": "python3"
  },
  "language_info": {
   "codemirror_mode": {
    "name": "ipython",
    "version": 3
   },
   "file_extension": ".py",
   "mimetype": "text/x-python",
   "name": "python",
   "nbconvert_exporter": "python",
   "pygments_lexer": "ipython3",
   "version": "3.11.1"
  },
  "orig_nbformat": 4,
  "vscode": {
   "interpreter": {
    "hash": "5238573367df39f7286bb46f9ff5f08f63a01a80960060ce41e3c79b190280fa"
   }
  }
 },
 "nbformat": 4,
 "nbformat_minor": 2
}
