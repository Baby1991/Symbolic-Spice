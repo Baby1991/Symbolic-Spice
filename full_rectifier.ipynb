{
 "cells": [
  {
   "cell_type": "code",
   "execution_count": 1,
   "metadata": {},
   "outputs": [],
   "source": [
    "%matplotlib widget\n",
    "from main import *\n",
    "import sympy as sp\n",
    "from sympy import Heaviside, sin, cos\n",
    "sp.init_printing()"
   ]
  },
  {
   "cell_type": "code",
   "execution_count": 2,
   "metadata": {},
   "outputs": [],
   "source": [
    "Vcc = 5\n",
    "\n",
    "Vin = 5 * sin(t)"
   ]
  },
  {
   "cell_type": "code",
   "execution_count": 3,
   "metadata": {},
   "outputs": [
    {
     "data": {
      "text/plain": [
       "{'Vg1': {'name': 'Vg1', 'type': 'VoltageSource', 'nodes': {'V+': 'V1', 'V-': 0}, 'values': {'Vdc': 0, 'Vac': 0, 'V_t': 5*sin(t)}},\n",
       " 'Vg2': {'name': 'Vg2', 'type': 'VoltageSource', 'nodes': {'V+': 0, 'V-': 'V2'}, 'values': {'Vdc': 0, 'Vac': 0, 'V_t': 5*sin(t)}},\n",
       " 'D1': {'name': 'D1', 'type': 'Diode', 'nodes': {'Vp': 'V1', 'Vn': 'V3'}, 'values': {'Vd': 0.6, 'T': 300}},\n",
       " 'D2': {'name': 'D2', 'type': 'Diode', 'nodes': {'Vp': 'V2', 'Vn': 'V3'}, 'values': {'Vd': 0.6, 'T': 300}},\n",
       " 'R1': {'name': 'R1', 'type': 'Resistor', 'nodes': {'V1': 'V3', 'V2': 'Vc'}, 'values': {'R': 1}},\n",
       " 'Iout': {'name': 'Iout', 'type': 'CurrentSource', 'nodes': {'V+': 'Vc', 'V-': 0}, 'values': {'Idc': 0, 'Iac': 0, 'I_t': -0.001}},\n",
       " 'C1': {'name': 'C1', 'type': 'Capacitor', 'nodes': {'V1': 'Vc', 'V2': 0}, 'values': {'C': 0.005, 'V0': 3.5}}}"
      ]
     },
     "execution_count": 3,
     "metadata": {},
     "output_type": "execute_result"
    }
   ],
   "source": [
    "acTest = Solver.Circuit(\"acTest\")\n",
    "acTest.element(\n",
    "                    VoltageSource(\"Vg1\", {\"V+\" : \"V1\", \"V-\" : Gnd}, V_t = Vin),\n",
    "                    VoltageSource(\"Vg2\", {\"V+\" : Gnd, \"V-\" : \"V2\"}, V_t = Vin),\n",
    "                    \n",
    "                    Diode(\"D1\", {\"Vp\" : \"V1\", \"Vn\" : \"V3\"}),\n",
    "                    Diode(\"D2\", {\"Vp\" : \"V2\", \"Vn\" : \"V3\"}),\n",
    "                    \n",
    "                    Resistor(\"R1\", {\"V1\" : \"V3\", \"V2\" : \"Vc\"}, R = 1),\n",
    "                    \n",
    "                    #Resistor(\"R2\", {\"V1\" : \"Vc\", \"V2\" : Gnd}, R = 1e5),\n",
    "                    CurrentSource(\"Iout\", {\"V+\" : \"Vc\", \"V-\" : Gnd}, I_t = -1e-3),\n",
    "                    Capacitor(\"C1\", {\"V1\" : \"Vc\", \"V2\" : Gnd}, V0 = 3.5, C = 5e-3),\n",
    ")"
   ]
  },
  {
   "cell_type": "code",
   "execution_count": 4,
   "metadata": {},
   "outputs": [],
   "source": [
    "Solver.setMain(\"acTest\")\n",
    "compiled = Solver.compile()"
   ]
  },
  {
   "cell_type": "code",
   "execution_count": 5,
   "metadata": {},
   "outputs": [
    {
     "name": "stderr",
     "output_type": "stream",
     "text": [
      "100%|██████████| 18/18 [00:05<00:00,  3.08it/s]\n"
     ]
    },
    {
     "name": "stdout",
     "output_type": "stream",
     "text": [
      "0.9999999999999999 \t\t\t\t\t\t\t\n",
      "0.9010192871093748 \t\t\t\t\t\t\n",
      "^^^^^^^^^^^^^^^^^^^^^^^^^^^^^^^^^^^^^^^^^^^^^^^\n"
     ]
    },
    {
     "name": "stderr",
     "output_type": "stream",
     "text": [
      "  0%|          | 0/18 [00:38<?, ?it/s]\n"
     ]
    },
    {
     "ename": "KeyboardInterrupt",
     "evalue": "",
     "output_type": "error",
     "traceback": [
      "\u001b[1;31m---------------------------------------------------------------------------\u001b[0m",
      "\u001b[1;31mIndexError\u001b[0m                                Traceback (most recent call last)",
      "File \u001b[1;32mc:\\Program Files\\Python311\\Lib\\multiprocessing\\pool.py:856\u001b[0m, in \u001b[0;36mIMapIterator.next\u001b[1;34m(self, timeout)\u001b[0m\n\u001b[0;32m    855\u001b[0m \u001b[39mtry\u001b[39;00m:\n\u001b[1;32m--> 856\u001b[0m     item \u001b[39m=\u001b[39m \u001b[39mself\u001b[39;49m\u001b[39m.\u001b[39;49m_items\u001b[39m.\u001b[39;49mpopleft()\n\u001b[0;32m    857\u001b[0m \u001b[39mexcept\u001b[39;00m \u001b[39mIndexError\u001b[39;00m:\n",
      "\u001b[1;31mIndexError\u001b[0m: pop from an empty deque",
      "\nDuring handling of the above exception, another exception occurred:\n",
      "\u001b[1;31mKeyboardInterrupt\u001b[0m                         Traceback (most recent call last)",
      "Cell \u001b[1;32mIn[5], line 1\u001b[0m\n\u001b[1;32m----> 1\u001b[0m model \u001b[39m=\u001b[39m solveLaplace(compiled, \u001b[39m3\u001b[39;49m \u001b[39m*\u001b[39;49m sp\u001b[39m.\u001b[39;49mpi, \u001b[39m0.1\u001b[39;49m, debugLog \u001b[39m=\u001b[39;49m \u001b[39mFalse\u001b[39;49;00m)\n",
      "File \u001b[1;32mc:\\Users\\Filip\\Desktop\\Symbolic-Spice\\solvers\\solverLaplace.py:106\u001b[0m, in \u001b[0;36msolveLaplace\u001b[1;34m(compiled, tmax, tstep, debugLog)\u001b[0m\n\u001b[0;32m    104\u001b[0m \u001b[39melse\u001b[39;00m:\n\u001b[0;32m    105\u001b[0m     \u001b[39mwith\u001b[39;00m tqdm(total \u001b[39m=\u001b[39m taskN) \u001b[39mas\u001b[39;00m pbar:\n\u001b[1;32m--> 106\u001b[0m         \u001b[39mfor\u001b[39;00m ret \u001b[39min\u001b[39;00m pool\u001b[39m.\u001b[39mimap_unordered(inverseLaplaceProcess, sol\u001b[39m.\u001b[39mitems(), chunksize\u001b[39m=\u001b[39mchunksize):            \n\u001b[0;32m    107\u001b[0m             sol_t\u001b[39m.\u001b[39mupdate(ret)\n\u001b[0;32m    108\u001b[0m             pbar\u001b[39m.\u001b[39mupdate(\u001b[39m1\u001b[39m)\n",
      "File \u001b[1;32mc:\\Program Files\\Python311\\Lib\\multiprocessing\\pool.py:451\u001b[0m, in \u001b[0;36m<genexpr>\u001b[1;34m(.0)\u001b[0m\n\u001b[0;32m    443\u001b[0m result \u001b[39m=\u001b[39m IMapUnorderedIterator(\u001b[39mself\u001b[39m)\n\u001b[0;32m    444\u001b[0m \u001b[39mself\u001b[39m\u001b[39m.\u001b[39m_taskqueue\u001b[39m.\u001b[39mput(\n\u001b[0;32m    445\u001b[0m     (\n\u001b[0;32m    446\u001b[0m         \u001b[39mself\u001b[39m\u001b[39m.\u001b[39m_guarded_task_generation(result\u001b[39m.\u001b[39m_job,\n\u001b[1;32m   (...)\u001b[0m\n\u001b[0;32m    449\u001b[0m         result\u001b[39m.\u001b[39m_set_length\n\u001b[0;32m    450\u001b[0m     ))\n\u001b[1;32m--> 451\u001b[0m \u001b[39mreturn\u001b[39;00m (item \u001b[39mfor\u001b[39;00m chunk \u001b[39min\u001b[39;00m result \u001b[39mfor\u001b[39;00m item \u001b[39min\u001b[39;00m chunk)\n",
      "File \u001b[1;32mc:\\Program Files\\Python311\\Lib\\multiprocessing\\pool.py:861\u001b[0m, in \u001b[0;36mIMapIterator.next\u001b[1;34m(self, timeout)\u001b[0m\n\u001b[0;32m    859\u001b[0m     \u001b[39mself\u001b[39m\u001b[39m.\u001b[39m_pool \u001b[39m=\u001b[39m \u001b[39mNone\u001b[39;00m\n\u001b[0;32m    860\u001b[0m     \u001b[39mraise\u001b[39;00m \u001b[39mStopIteration\u001b[39;00m \u001b[39mfrom\u001b[39;00m \u001b[39mNone\u001b[39m\n\u001b[1;32m--> 861\u001b[0m \u001b[39mself\u001b[39;49m\u001b[39m.\u001b[39;49m_cond\u001b[39m.\u001b[39;49mwait(timeout)\n\u001b[0;32m    862\u001b[0m \u001b[39mtry\u001b[39;00m:\n\u001b[0;32m    863\u001b[0m     item \u001b[39m=\u001b[39m \u001b[39mself\u001b[39m\u001b[39m.\u001b[39m_items\u001b[39m.\u001b[39mpopleft()\n",
      "File \u001b[1;32mc:\\Program Files\\Python311\\Lib\\threading.py:320\u001b[0m, in \u001b[0;36mCondition.wait\u001b[1;34m(self, timeout)\u001b[0m\n\u001b[0;32m    318\u001b[0m \u001b[39mtry\u001b[39;00m:    \u001b[39m# restore state no matter what (e.g., KeyboardInterrupt)\u001b[39;00m\n\u001b[0;32m    319\u001b[0m     \u001b[39mif\u001b[39;00m timeout \u001b[39mis\u001b[39;00m \u001b[39mNone\u001b[39;00m:\n\u001b[1;32m--> 320\u001b[0m         waiter\u001b[39m.\u001b[39;49macquire()\n\u001b[0;32m    321\u001b[0m         gotit \u001b[39m=\u001b[39m \u001b[39mTrue\u001b[39;00m\n\u001b[0;32m    322\u001b[0m     \u001b[39melse\u001b[39;00m:\n",
      "\u001b[1;31mKeyboardInterrupt\u001b[0m: "
     ]
    }
   ],
   "source": [
    "model = solveLaplace(compiled, 3 * sp.pi, 0.1, debugLog = False)"
   ]
  },
  {
   "cell_type": "code",
   "execution_count": null,
   "metadata": {},
   "outputs": [],
   "source": [
    "print(compiled[\"nodes\"])\n",
    "\n",
    "Vin = compiled[\"voltages\"][\"Vg1\"][\"V+\"]\n",
    "Id1 = compiled[\"currents\"][\"D1\"][\"Vp\"]\n",
    "Id2 = compiled[\"currents\"][\"D2\"][\"Vp\"]\n",
    "Id = compiled[\"currents\"][\"R1\"][\"V1\"]\n",
    "Vd = compiled[\"voltages\"][\"D1\"][\"Vp\"] - compiled[\"voltages\"][\"D1\"][\"Vn\"]\n",
    "Vc = compiled[\"nodes\"][\"Vc\"]\n",
    "Iout = compiled[\"currents\"][\"Iout\"][\"V+\"]"
   ]
  },
  {
   "cell_type": "code",
   "execution_count": null,
   "metadata": {},
   "outputs": [],
   "source": [
    "printModel(model, var=t, important={Id})"
   ]
  },
  {
   "cell_type": "code",
   "execution_count": null,
   "metadata": {},
   "outputs": [],
   "source": [
    "measurments =   [   \n",
    "                    (Vin, \"Vin(t)\"),\n",
    "                    (Vc, \"Vc(t)\"),\n",
    "                ]\n",
    "\n",
    "fig, ax = plt.subplots(figsize=[15, 7])\n",
    "\n",
    "plotTranMeasurments(model, 0, 10, 0.01, measurments, ax)\n",
    "#plotMeasurments(model, -10, 10, 0.1, measurments)\n",
    "#plt.legend(loc=\"best\");\n",
    "plt.grid(True);\n",
    "plt.show()"
   ]
  },
  {
   "cell_type": "code",
   "execution_count": null,
   "metadata": {},
   "outputs": [],
   "source": [
    "measurments =   [   \n",
    "                    (1e3 * Iout, \"Iout(t)\"),\n",
    "                    (1e3 * Id, \"Id(t)\"),\n",
    "                    #(Vd, \"Vd(t)\"),\n",
    "                ]\n",
    "\n",
    "fig, ax = plt.subplots(figsize=[15, 7])\n",
    "\n",
    "plotTranMeasurments(model, 0, 10, 0.01, measurments, ax)\n",
    "#plotMeasurments(model, -10, 10, 0.1, measurments)\n",
    "#plt.legend(loc=\"best\");\n",
    "plt.grid(True);\n",
    "plt.show()"
   ]
  }
 ],
 "metadata": {
  "kernelspec": {
   "display_name": "Python 3",
   "language": "python",
   "name": "python3"
  },
  "language_info": {
   "codemirror_mode": {
    "name": "ipython",
    "version": 3
   },
   "file_extension": ".py",
   "mimetype": "text/x-python",
   "name": "python",
   "nbconvert_exporter": "python",
   "pygments_lexer": "ipython3",
   "version": "3.11.1"
  },
  "orig_nbformat": 4,
  "vscode": {
   "interpreter": {
    "hash": "5238573367df39f7286bb46f9ff5f08f63a01a80960060ce41e3c79b190280fa"
   }
  }
 },
 "nbformat": 4,
 "nbformat_minor": 2
}
