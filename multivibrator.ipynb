{
 "cells": [
  {
   "cell_type": "code",
   "execution_count": null,
   "metadata": {},
   "outputs": [],
   "source": [
    "%matplotlib widget\n",
    "from main import *\n",
    "import sympy as sp\n",
    "from sympy import Heaviside, sin, cos\n",
    "sp.init_printing()"
   ]
  },
  {
   "cell_type": "code",
   "execution_count": null,
   "metadata": {},
   "outputs": [],
   "source": [
    "Vcc = 5"
   ]
  },
  {
   "cell_type": "code",
   "execution_count": null,
   "metadata": {},
   "outputs": [],
   "source": [
    "multivibrator = Solver.Circuit(\"multivibrator\")\n",
    "multivibrator.element(\n",
    "    Resistor(\"R\", {\"V1\" : \"Vc\", \"V2\" : \"Vout\"}, R = 50e3),\n",
    "    OpAmp(\"Op1\", {\"V+\" : \"V+\", \"V-\" : \"Vc\", \"Vop\" : \"Vout\", \"Vcc\" : Vcc, \"Vee\" : -Vcc}),\n",
    "    Resistor(\"R1\", {\"V1\" : \"Vout\", \"V2\" : \"V+\"}, R = 35e3),\n",
    "    Resistor(\"R2\", {\"V1\" : \"V+\", \"V2\" : Gnd}, R = 30e3),\n",
    "    Capacitor(\"C1\", {\"V1\" : \"Vc\", \"V2\" : Gnd}, C = 10e-9, V0 = 1e-1),\n",
    ")"
   ]
  },
  {
   "cell_type": "code",
   "execution_count": null,
   "metadata": {},
   "outputs": [],
   "source": [
    "Solver.setMain(\"multivibrator\")\n",
    "compiled = Solver.compile()"
   ]
  },
  {
   "cell_type": "code",
   "execution_count": null,
   "metadata": {},
   "outputs": [],
   "source": [
    "model = solveLaplace(compiled, 3e-3, 1e-5, debugLog = True)"
   ]
  },
  {
   "cell_type": "code",
   "execution_count": null,
   "metadata": {},
   "outputs": [],
   "source": [
    "print(compiled[\"nodes\"])\n",
    "\n",
    "Vout = compiled[\"nodes\"][\"Vout\"]\n",
    "Vc = compiled[\"nodes\"][\"Vc\"]"
   ]
  },
  {
   "cell_type": "code",
   "execution_count": null,
   "metadata": {},
   "outputs": [],
   "source": [
    "print(model)"
   ]
  },
  {
   "cell_type": "code",
   "execution_count": null,
   "metadata": {},
   "outputs": [],
   "source": [
    "printModel(model, var=t, important={Vout, Vc})"
   ]
  },
  {
   "cell_type": "code",
   "execution_count": null,
   "metadata": {},
   "outputs": [],
   "source": [
    "measurments =   [   \n",
    "                    (Vout, \"Vout(t)\"),\n",
    "                    (Vc, \"Vc(t)\"),\n",
    "                ]\n",
    "\n",
    "fig, ax = plt.subplots(figsize=[15, 7])\n",
    "\n",
    "plotTranMeasurments(model, 0, 3e-3, 1e-5, measurments)\n",
    "#plt.legend(loc=\"best\");\n",
    "plt.grid(True);\n",
    "plt.show()"
   ]
  }
 ],
 "metadata": {
  "kernelspec": {
   "display_name": "Python 3",
   "language": "python",
   "name": "python3"
  },
  "language_info": {
   "codemirror_mode": {
    "name": "ipython",
    "version": 3
   },
   "file_extension": ".py",
   "mimetype": "text/x-python",
   "name": "python",
   "nbconvert_exporter": "python",
   "pygments_lexer": "ipython3",
   "version": "3.11.1"
  },
  "orig_nbformat": 4,
  "vscode": {
   "interpreter": {
    "hash": "5238573367df39f7286bb46f9ff5f08f63a01a80960060ce41e3c79b190280fa"
   }
  }
 },
 "nbformat": 4,
 "nbformat_minor": 2
}
