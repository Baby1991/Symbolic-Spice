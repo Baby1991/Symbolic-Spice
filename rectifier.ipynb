{
 "cells": [
  {
   "cell_type": "code",
   "execution_count": null,
   "metadata": {},
   "outputs": [],
   "source": [
    "%matplotlib widget\n",
    "from main import *\n",
    "import sympy as sp\n",
    "from sympy import Heaviside, sin, cos\n",
    "sp.init_printing()"
   ]
  },
  {
   "cell_type": "code",
   "execution_count": null,
   "metadata": {},
   "outputs": [],
   "source": [
    "Vcc = 5\n",
    "\n",
    "var = sp.Symbol(\"Vin\", real=True)"
   ]
  },
  {
   "cell_type": "code",
   "execution_count": null,
   "metadata": {},
   "outputs": [],
   "source": [
    "acTest = Solver.Circuit(\"acTest\")\n",
    "acTest.element(\n",
    "                    VoltageSource(\"Vg\", {\"V+\" : \"V1\", \"V-\" : Gnd}, V_t = 5 * Heaviside(t-1)),\n",
    "                    Diode(\"D1\", {\"Vp\" : \"V1\", \"Vn\" : \"V2\"}),\n",
    "                    Resistor(\"R1\", {\"V1\" : \"V2\", \"V2\" : \"Vc\"}, R = 1e3),\n",
    "                    Resistor(\"R2\", {\"V1\" : \"Vc\", \"V2\" : Gnd}, R = 1e6),\n",
    "                    Capacitor(\"C1\", {\"V1\" : \"Vc\", \"V2\" : Gnd}, V0 = 3.5, C = 1e-5),\n",
    ")"
   ]
  },
  {
   "cell_type": "code",
   "execution_count": null,
   "metadata": {},
   "outputs": [],
   "source": [
    "Solver.setMain(\"acTest\")\n",
    "compiled = Solver.compile()"
   ]
  },
  {
   "cell_type": "code",
   "execution_count": null,
   "metadata": {},
   "outputs": [],
   "source": [
    "model = solveLaplace(compiled, 4, 0.1, debugLog = True)"
   ]
  },
  {
   "cell_type": "code",
   "execution_count": null,
   "metadata": {},
   "outputs": [],
   "source": [
    "print(compiled[\"nodes\"])\n",
    "\n",
    "Vin = compiled[\"voltages\"][\"Vg\"][\"V+\"]\n",
    "Id = compiled[\"currents\"][\"D1\"][\"Vp\"]\n",
    "Vd = compiled[\"voltages\"][\"D1\"][\"Vp\"] - compiled[\"voltages\"][\"D1\"][\"Vn\"]\n",
    "Vc = compiled[\"nodes\"][\"Vc\"]\n",
    "Iout = compiled[\"currents\"][\"R2\"][\"V1\"]"
   ]
  },
  {
   "cell_type": "code",
   "execution_count": null,
   "metadata": {},
   "outputs": [],
   "source": [
    "printModel(model, var=t, important={Id})\n",
    "printModel(model, var=t, important={Iout})"
   ]
  },
  {
   "cell_type": "code",
   "execution_count": null,
   "metadata": {},
   "outputs": [],
   "source": [
    "measurments =   [   \n",
    "                    (Vin, \"Vin(t)\"),\n",
    "                    (Vc, \"Vc(t)\"),\n",
    "                ]\n",
    "\n",
    "fig, ax = plt.subplots(figsize=[15, 7])\n",
    "\n",
    "plotTranMeasurments(model, 0, 10, 0.01, measurments)\n",
    "#plotMeasurments(model, -10, 10, 0.1, measurments)\n",
    "#plt.legend(loc=\"best\");\n",
    "plt.grid(True);\n",
    "plt.show()"
   ]
  },
  {
   "cell_type": "code",
   "execution_count": null,
   "metadata": {},
   "outputs": [],
   "source": [
    "measurments =   [   \n",
    "                    (1e6 * Iout, \"Iout(t)\"),\n",
    "                    (1e6 * Id, \"Id(t)\"),\n",
    "                    #(Vd, \"Vd(t)\"),\n",
    "                ]\n",
    "\n",
    "fig, ax = plt.subplots(figsize=[15, 7])\n",
    "\n",
    "plotTranMeasurments(model, 0, 10, 0.01, measurments)\n",
    "#plotMeasurments(model, -10, 10, 0.1, measurments)\n",
    "#plt.legend(loc=\"best\");\n",
    "plt.grid(True);\n",
    "plt.show()"
   ]
  }
 ],
 "metadata": {
  "kernelspec": {
   "display_name": "Python 3",
   "language": "python",
   "name": "python3"
  },
  "language_info": {
   "codemirror_mode": {
    "name": "ipython",
    "version": 3
   },
   "file_extension": ".py",
   "mimetype": "text/x-python",
   "name": "python",
   "nbconvert_exporter": "python",
   "pygments_lexer": "ipython3",
   "version": "3.11.1"
  },
  "orig_nbformat": 4,
  "vscode": {
   "interpreter": {
    "hash": "5238573367df39f7286bb46f9ff5f08f63a01a80960060ce41e3c79b190280fa"
   }
  }
 },
 "nbformat": 4,
 "nbformat_minor": 2
}
