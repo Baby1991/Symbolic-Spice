{
 "cells": [
  {
   "cell_type": "code",
   "execution_count": 1,
   "metadata": {},
   "outputs": [],
   "source": [
    "%matplotlib widget\n",
    "from solver import *\n",
    "\n",
    "from models import NPN, PNP, Diode, Resistor, VoltageSource, CurrentSource, OpAmp, Capacitor, Inductor\n",
    "import sympy as sp"
   ]
  },
  {
   "cell_type": "code",
   "execution_count": 2,
   "metadata": {},
   "outputs": [],
   "source": [
    "Vcc = 5\n",
    "\n",
    "var = sp.Symbol(\"Vin\", real=True)"
   ]
  },
  {
   "cell_type": "code",
   "execution_count": 3,
   "metadata": {},
   "outputs": [
    {
     "data": {
      "text/plain": [
       "{'Vg': {'name': 'Vg', 'type': 'VoltageSource', 'nodes': {'V+': 'V1', 'V-': 0}, 'values': {'Vdc': 0, 'Vac': 0, 'V_s': 2/(s**2 + 10)}},\n",
       " 'D1': {'name': 'D1', 'type': 'Diode', 'nodes': {'Vp': 'V1', 'Vn': 'V2'}, 'values': {'Vd': 0.6, 'T': 300}},\n",
       " 'R1': {'name': 'R1', 'type': 'Resistor', 'nodes': {'V1': 'V2', 'V2': 'Vc'}, 'values': {'R': 100000.0}},\n",
       " 'Rout': {'name': 'Rout', 'type': 'Resistor', 'nodes': {'V1': 'Vc', 'V2': 0}, 'values': {'R': 10000000.0}},\n",
       " 'C1': {'name': 'C1', 'type': 'Capacitor', 'nodes': {'V1': 'Vc', 'V2': 0}, 'values': {'C': 1e-06, 'V0': 0}}}"
      ]
     },
     "execution_count": 3,
     "metadata": {},
     "output_type": "execute_result"
    }
   ],
   "source": [
    "acTest = Solver.Circuit(\"acTest\")\n",
    "acTest.element(\n",
    "                    VoltageSource(\"Vg\", {\"V+\" : \"V1\", \"V-\" : Gnd}, V_s = 2 / (10 + s**2)),\n",
    "                    Diode(\"D1\", {\"Vp\" : \"V1\", \"Vn\" : \"V2\"}),\n",
    "                    Resistor(\"R1\", {\"V1\" : \"V2\", \"V2\" : \"Vc\"}, R = 1e5),\n",
    "                    Resistor(\"Rout\", {\"V1\" : \"Vc\", \"V2\" : Gnd}, R = 1e7),\n",
    "                    Capacitor(\"C1\", {\"V1\" : \"Vc\", \"V2\" : Gnd}, V0 = 0),\n",
    ")"
   ]
  },
  {
   "cell_type": "code",
   "execution_count": 4,
   "metadata": {},
   "outputs": [
    {
     "data": {
      "text/plain": [
       "{'R': {'name': 'R', 'type': 'Resistor', 'nodes': {'V1': 'Vc', 'V2': 'Vout'}, 'values': {'R': 50000.0}},\n",
       " 'Op1': {'name': 'Op1', 'type': 'OpAmp', 'nodes': {'V+': 'V+', 'V-': 'Vc', 'Vop': 'Vout', 'Vcc': 5, 'Vee': -5}, 'values': {'Av': oo}},\n",
       " 'R1': {'name': 'R1', 'type': 'Resistor', 'nodes': {'V1': 'Vout', 'V2': 'V+'}, 'values': {'R': 35000.0}},\n",
       " 'R2': {'name': 'R2', 'type': 'Resistor', 'nodes': {'V1': 'V+', 'V2': 0}, 'values': {'R': 30000.0}},\n",
       " 'C1': {'name': 'C1', 'type': 'Capacitor', 'nodes': {'V1': 'Vc', 'V2': 0}, 'values': {'C': 1e-08, 'V0': 2.5}}}"
      ]
     },
     "execution_count": 4,
     "metadata": {},
     "output_type": "execute_result"
    }
   ],
   "source": [
    "multivibrator = Solver.Circuit(\"multivibrator\")\n",
    "multivibrator.element(\n",
    "    Resistor(\"R\", {\"V1\" : \"Vc\", \"V2\" : \"Vout\"}, R = 50e3),\n",
    "    OpAmp(\"Op1\", {\"V+\" : \"V+\", \"V-\" : \"Vc\", \"Vop\" : \"Vout\", \"Vcc\" : Vcc, \"Vee\" : -Vcc}),\n",
    "    Resistor(\"R1\", {\"V1\" : \"Vout\", \"V2\" : \"V+\"}, R = 35e3),\n",
    "    Resistor(\"R2\", {\"V1\" : \"V+\", \"V2\" : Gnd}, R = 30e3),\n",
    "    Capacitor(\"C1\", {\"V1\" : \"Vc\", \"V2\" : Gnd}, C = 10e-9, V0 = 2.5),\n",
    ")"
   ]
  },
  {
   "cell_type": "code",
   "execution_count": 5,
   "metadata": {},
   "outputs": [
    {
     "data": {
      "text/plain": [
       "{'Rc': {'name': 'Rc', 'type': 'Resistor', 'nodes': {'V1': 5, 'V2': 'Vc'}, 'values': {'R': 1000.0}},\n",
       " 'Cout': {'name': 'Cout', 'type': 'Capacitor', 'nodes': {'V1': 'Vc', 'V2': 'Vout'}, 'values': {'C': 1e-06, 'V0': 0}},\n",
       " 'Rout': {'name': 'Rout', 'type': 'Resistor', 'nodes': {'V1': 'Vout', 'V2': 0}, 'values': {'R': 1000.0}},\n",
       " 'Q1': {'name': 'Q1', 'type': 'NPN', 'nodes': {'Vc': 'Vc', 'Vb': 'Vb', 'Ve': 0}, 'values': {'Vdf': 0.6, 'Vdr': 0.4, 'Bf': 100, 'Br': 0.1}},\n",
       " 'Vbb': {'name': 'Vbb', 'type': 'VoltageSource', 'nodes': {'V+': 'Vbb', 'V-': 0}, 'values': {'Vdc': 1.6, 'Vac': 0, 'V_s': 0}},\n",
       " 'Rb': {'name': 'Rb', 'type': 'Resistor', 'nodes': {'V1': 'Vbb', 'V2': 'Vb'}, 'values': {'R': 31200.0}},\n",
       " 'Cin': {'name': 'Cin', 'type': 'Capacitor', 'nodes': {'V1': 'Vg', 'V2': 'Vb'}, 'values': {'C': 1e-06, 'V0': 0}},\n",
       " 'Rg': {'name': 'Rg', 'type': 'Resistor', 'nodes': {'V1': 'Vin', 'V2': 'Vg'}, 'values': {'R': 1000.0}},\n",
       " 'Vg': {'name': 'Vg', 'type': 'VoltageSource', 'nodes': {'V+': 'Vin', 'V-': 0}, 'values': {'Vdc': 0, 'Vac': Vin, 'V_s': 0}}}"
      ]
     },
     "execution_count": 5,
     "metadata": {},
     "output_type": "execute_result"
    }
   ],
   "source": [
    "opTest = Solver.Circuit(\"opTest\")\n",
    "opTest.element(\n",
    "    \n",
    "    Resistor(\"Rc\", {\"V1\" : Vcc, \"V2\" : \"Vc\"}, R = 1e3),\n",
    "    \n",
    "    Capacitor(\"Cout\", {\"V1\" : \"Vc\", \"V2\" : \"Vout\"}),\n",
    "    Resistor(\"Rout\", {\"V1\" : \"Vout\", \"V2\" : Gnd}, R = 1e3),\n",
    "    \n",
    "    NPN(\"Q1\", {\"Vc\" : \"Vc\", \"Vb\" : \"Vb\", \"Ve\" : Gnd}),\n",
    "    \n",
    "    VoltageSource(\"Vbb\", {\"V+\" : \"Vbb\", \"V-\" : Gnd}, Vdc = 1.6),\n",
    "    Resistor(\"Rb\", {\"V1\" : \"Vbb\", \"V2\" : \"Vb\"}, R = 31.2e3),\n",
    "    \n",
    "    Capacitor(\"Cin\", {\"V1\" : \"Vg\", \"V2\" : \"Vb\"}),\n",
    "    Resistor(\"Rg\", {\"V1\" : \"Vin\", \"V2\" : \"Vg\"}, R = 1e3),\n",
    "    VoltageSource(\"Vg\", {\"V+\" : \"Vin\", \"V-\" : Gnd}, Vac = var),\n",
    ")"
   ]
  },
  {
   "cell_type": "code",
   "execution_count": 6,
   "metadata": {},
   "outputs": [
    {
     "data": {
      "text/plain": [
       "{'Vg': {'name': 'Vg', 'type': 'VoltageSource', 'nodes': {'V+': 'Vin', 'V-': 0}, 'values': {'Vdc': 2, 'Vac': Vin, 'V_s': 0}},\n",
       " 'Rg': {'name': 'Rg', 'type': 'Resistor', 'nodes': {'V1': 'Vin', 'V2': 'Vd'}, 'values': {'R': 1000.0}},\n",
       " 'D1': {'name': 'D1', 'type': 'Diode', 'nodes': {'Vp': 'Vd', 'Vn': 0}, 'values': {'Vd': 0.6, 'T': 300}}}"
      ]
     },
     "execution_count": 6,
     "metadata": {},
     "output_type": "execute_result"
    }
   ],
   "source": [
    "smallSignalTest = Solver.Circuit(\"smallSignalTest\")\n",
    "smallSignalTest.element(\n",
    "    VoltageSource(\"Vg\", {\"V+\" : \"Vin\", \"V-\" : Gnd}, Vdc = 2, Vac = var),\n",
    "    Resistor(\"Rg\", {\"V1\" : \"Vin\", \"V2\" : \"Vd\"}, R = 1e3),\n",
    "    Diode(\"D1\", {\"Vp\" : \"Vd\", \"Vn\" : Gnd}),\n",
    ")"
   ]
  },
  {
   "cell_type": "code",
   "execution_count": 7,
   "metadata": {},
   "outputs": [],
   "source": [
    "Solver.setMain(\"acTest\")\n",
    "compiled = Solver.compile()"
   ]
  },
  {
   "cell_type": "code",
   "execution_count": 8,
   "metadata": {},
   "outputs": [
    {
     "name": "stdout",
     "output_type": "stream",
     "text": [
      "{('Vg', ''), ('D1', 'Cut'), ('Rout', ''), ('R1', ''), ('C1', '')}\n",
      "[Eq(V1, 2/(s**2 + 10)), Eq(I0_0 + I0_1, 0), Eq(I1_0, 0), Eq(I1_1, 0), Eq(I2_0, 1.0e-5*V0 - 1.0e-5*V2), Eq(I2_0 + I2_1, 0), Eq(I3_0, 1.0e-7*V2), Eq(I3_0 + I3_1, 0), Eq(I4_0, 1.0e-6*V2*s), Eq(I4_0 + I4_1, 0), Eq(I1_1 + I2_0, 0), Eq(I0_0 + I1_0, 0), Eq(I2_1 + I3_0 + I4_0, 0)]\n",
      "[-V0 + V1 <= 0.6]\n",
      "V1 2.0/(s**2 + 10.0)\n",
      "I0_0 0.0\n",
      "I0_1 0.0\n",
      "I1_0 0.0\n",
      "I1_1 0.0\n",
      "I2_0 0.0\n",
      "I2_1 0.0\n",
      "I3_0 0.0\n",
      "I3_1 0.0\n",
      "I4_0 0.0\n",
      "I4_1 0.0\n",
      "V0 0.0\n",
      "V2 0.0\n",
      "{V1: 0.2/(0.1*s**2 + 1.0), I0_0: 0, I0_1: 0, I1_0: 0, I1_1: 0, I2_0: 0, I2_1: 0, I3_0: 0, I3_1: 0, I4_0: 0, I4_1: 0, V0: 0, V2: 0}\n",
      "-------------------------------------------------\n",
      "{V1: 0.632455532033676*sin(3.16227766016838*t), I0_0: 0, I0_1: 0, I1_0: 0, I1_1: 0, I2_0: 0, I2_1: 0, I3_0: 0, I3_1: 0, I4_0: 0, I4_1: 0, V0: 0, V2: 0}\n",
      "*****************************************\n",
      "{('Vg', ''), ('Rout', ''), ('D1', 'Fwd'), ('R1', ''), ('C1', '')}\n",
      "[Eq(V1, 2/(s**2 + 10)), Eq(I0_0 + I0_1, 0), Eq(-V0 + V1, 0.6/s), Eq(I1_0 + I1_1, 0), Eq(I2_0, 1.0e-5*V0 - 1.0e-5*V2), Eq(I2_0 + I2_1, 0), Eq(I3_0, 1.0e-7*V2), Eq(I3_0 + I3_1, 0), Eq(I4_0, 1.0e-6*V2*s), Eq(I4_0 + I4_1, 0), Eq(I1_1 + I2_0, 0), Eq(I0_0 + I1_0, 0), Eq(I2_1 + I3_0 + I4_0, 0)]\n",
      "[I1_0 > 0]\n",
      "I0_0 (30.0*s**3 - 97.0*s**2 + 290.0*s + 30.0)/(5000000.0*s**4 + 50500000.0*s**3 + 50000000.0*s**2 + 505000000.0*s)\n",
      "I0_1 (-30.0*s**3 + 97.0*s**2 - 290.0*s - 30.0)/(5000000.0*s**4 + 50500000.0*s**3 + 50000000.0*s**2 + 505000000.0*s)\n",
      "I1_0 (-30.0*s**3 + 97.0*s**2 - 290.0*s - 30.0)/(5000000.0*s**4 + 50500000.0*s**3 + 50000000.0*s**2 + 505000000.0*s)\n",
      "I1_1 (30.0*s**3 - 97.0*s**2 + 290.0*s + 30.0)/(5000000.0*s**4 + 50500000.0*s**3 + 50000000.0*s**2 + 505000000.0*s)\n",
      "I2_0 (-30.0*s**3 + 97.0*s**2 - 290.0*s - 30.0)/(5000000.0*s**4 + 50500000.0*s**3 + 50000000.0*s**2 + 505000000.0*s)\n",
      "I2_1 (30.0*s**3 - 97.0*s**2 + 290.0*s + 30.0)/(5000000.0*s**4 + 50500000.0*s**3 + 50000000.0*s**2 + 505000000.0*s)\n",
      "I3_0 (-3.0*s**2 + 10.0*s - 30.0)/(5000000.0*s**4 + 50500000.0*s**3 + 50000000.0*s**2 + 505000000.0*s)\n",
      "I3_1 (3.0*s**2 - 10.0*s + 30.0)/(5000000.0*s**4 + 50500000.0*s**3 + 50000000.0*s**2 + 505000000.0*s)\n",
      "I4_0 (-3.0*s**2 + 10.0*s - 30.0)/(500000.0*s**3 + 5050000.0*s**2 + 5000000.0*s + 50500000.0)\n",
      "I4_1 (3.0*s**2 - 10.0*s + 30.0)/(500000.0*s**3 + 5050000.0*s**2 + 5000000.0*s + 50500000.0)\n",
      "V0 (-3.0*s**2 + 10.0*s - 30.0)/(5.0*s**3 + 50.0*s)\n",
      "V1 2.0/(s**2 + 10.0)\n",
      "V2 (-60.0*s**2 + 200.0*s - 600.0)/(10.0*s**4 + 101.0*s**3 + 100.0*s**2 + 1010.0*s)\n",
      "{I0_0: 0, I0_1: 0, I1_0: 0, I1_1: 0, I2_0: 0, I2_1: 0, I3_0: 0, I3_1: 0, I4_0: 0, I4_1: 0, V0: (-0.06*s**2 + 0.2*s - 0.6)/(s*(0.1*s**2 + 1.0)), V1: 0.2/(0.1*s**2 + 1.0), V2: (4.33680868994202e-19*s**3 - 0.0594059405940594*s**2 + 0.198019801980198*s - 0.594059405940594)/(s*(0.0099009900990099*s**3 + 0.1*s**2 + 0.099009900990099*s + 1.0))}\n",
      "-------------------------------------------------\n",
      "RisingFactorial(_t + 1, 1.0) contains an element of the set of generators.\n",
      "0.3960000000000003\n",
      "^^^^^^^^^^^^^^^^^^^^^^^^^^^^^^^^^^^^^^^^^^^^^^^\n",
      "{('Vg', ''), ('D1', 'Cut'), ('Rout', ''), ('R1', ''), ('C1', '')}\n",
      "[Eq(V1, 2/(s**2 + 10) + 0.600640131953318/s), Eq(I0_0 + I0_1, 0), Eq(I1_0, 0), Eq(I1_1, 0), Eq(I2_0, 1.0e-5*V0 - 1.0e-5*V2), Eq(I2_0 + I2_1, 0), Eq(I3_0, 1.0e-7*V2), Eq(I3_0 + I3_1, 0), Eq(I4_0, 1.0e-6*V2*s), Eq(I4_0 + I4_1, 0), Eq(I1_1 + I2_0, 0), Eq(I0_0 + I1_0, 0), Eq(I2_1 + I3_0 + I4_0, 0)]\n",
      "[-V0 + V1 <= 0.6]\n",
      "V1 (300320065976659.0*s**2 + 1.0e+15*s + 3.00320065976659e+15)/(500000000000000.0*s**3 + 5.0e+15*s)\n",
      "I0_0 0.0\n",
      "I0_1 0.0\n",
      "I1_0 0.0\n",
      "I1_1 0.0\n",
      "I2_0 0.0\n",
      "I2_1 0.0\n",
      "I3_0 0.0\n",
      "I3_1 0.0\n",
      "I4_0 0.0\n",
      "I4_1 0.0\n",
      "V0 0.0\n",
      "V2 0.0\n",
      "{V1: (0.0600640131953318*s**2 + 0.2*s + 0.600640131953318)/(s*(0.1*s**2 + 1.0)), I0_0: 0, I0_1: 0, I1_0: 0, I1_1: 0, I2_0: 0, I2_1: 0, I3_0: 0, I3_1: 0, I4_0: 0, I4_1: 0, V0: 0, V2: 0}\n",
      "-------------------------------------------------\n",
      "{V1: 0.632455532033676*sin(3.16227766016838*t) + 0.600640131953318, I0_0: 0, I0_1: 0, I1_0: 0, I1_1: 0, I2_0: 0, I2_1: 0, I3_0: 0, I3_1: 0, I4_0: 0, I4_1: 0, V0: 0, V2: 0}\n",
      "*****************************************\n",
      "{('Vg', ''), ('Rout', ''), ('D1', 'Fwd'), ('R1', ''), ('C1', '')}\n",
      "[Eq(V1, 2/(s**2 + 10) + 0.600640131953318/s), Eq(I0_0 + I0_1, 0), Eq(-V0 + V1, 0.6/s), Eq(I1_0 + I1_1, 0), Eq(I2_0, 1.0e-5*V0 - 1.0e-5*V2), Eq(I2_0 + I2_1, 0), Eq(I3_0, 1.0e-7*V2), Eq(I3_0 + I3_1, 0), Eq(I4_0, 1.0e-6*V2*s), Eq(I4_0 + I4_1, 0), Eq(I1_1 + I2_0, 0), Eq(I0_0 + I1_0, 0), Eq(I2_1 + I3_0 + I4_0, 0)]\n",
      "[I1_0 > 0]\n",
      "I0_0 (-3200659766590.0*s**3 - 1.00003200659767e+16*s**2 - 1.0320065976659e+15*s - 3200659766590.0)/(5.0e+20*s**4 + 5.05e+21*s**3 + 5.0e+21*s**2 + 5.05e+22*s)\n",
      "I0_1 (3200659766590.0*s**3 + 1.00003200659767e+16*s**2 + 1.0320065976659e+15*s + 3200659766590.0)/(5.0e+20*s**4 + 5.05e+21*s**3 + 5.0e+21*s**2 + 5.05e+22*s)\n",
      "I1_0 (3200659766590.0*s**3 + 1.00003200659767e+16*s**2 + 1.0320065976659e+15*s + 3200659766590.0)/(5.0e+20*s**4 + 5.05e+21*s**3 + 5.0e+21*s**2 + 5.05e+22*s)\n",
      "I1_1 (-3200659766590.0*s**3 - 1.00003200659767e+16*s**2 - 1.0320065976659e+15*s - 3200659766590.0)/(5.0e+20*s**4 + 5.05e+21*s**3 + 5.0e+21*s**2 + 5.05e+22*s)\n",
      "I2_0 (3200659766590.0*s**3 + 1.00003200659767e+16*s**2 + 1.0320065976659e+15*s + 3200659766590.0)/(5.0e+20*s**4 + 5.05e+21*s**3 + 5.0e+21*s**2 + 5.05e+22*s)\n",
      "I2_1 (-3200659766590.0*s**3 - 1.00003200659767e+16*s**2 - 1.0320065976659e+15*s - 3200659766590.0)/(5.0e+20*s**4 + 5.05e+21*s**3 + 5.0e+21*s**2 + 5.05e+22*s)\n",
      "I3_0 (320065976659.0*s**2 + 1.0e+15*s + 3200659766590.0)/(5.0e+20*s**4 + 5.05e+21*s**3 + 5.0e+21*s**2 + 5.05e+22*s)\n",
      "I3_1 (-320065976659.0*s**2 - 1.0e+15*s - 3200659766590.0)/(5.0e+20*s**4 + 5.05e+21*s**3 + 5.0e+21*s**2 + 5.05e+22*s)\n",
      "I4_0 (320065976659.0*s**2 + 1.0e+15*s + 3200659766590.0)/(5.0e+19*s**3 + 5.05e+20*s**2 + 5.0e+20*s + 5.05e+21)\n",
      "I4_1 (-320065976659.0*s**2 - 1.0e+15*s - 3200659766590.0)/(5.0e+19*s**3 + 5.05e+20*s**2 + 5.0e+20*s + 5.05e+21)\n",
      "V0 (320065976659.0*s**2 + 1.0e+15*s + 3200659766590.0)/(500000000000000.0*s**3 + 5.0e+15*s)\n",
      "V1 (300320065976659.0*s**2 + 1.0e+15*s + 3.00320065976659e+15)/(500000000000000.0*s**3 + 5.0e+15*s)\n",
      "V2 (320065976659.0*s**2 + 1.0e+15*s + 3200659766590.0)/(50000000000000.0*s**4 + 505000000000000.0*s**3 + 500000000000000.0*s**2 + 5.05e+15*s)\n",
      "{I0_0: 0, I0_1: 0, I1_0: 0, I1_1: 0, I2_0: 0, I2_1: 0, I3_0: 0, I3_1: 0, I4_0: 0, I4_1: 0, V0: (6.40131953318e-5*s**2 + 0.2*s + 0.000640131953318)/(s*(0.1*s**2 + 1.0)), V1: (0.0600640131953318*s**2 + 0.2*s + 0.600640131953318)/(s*(0.1*s**2 + 1.0)), V2: (-2.16840434497101e-19*s**3 + 6.33794013186139e-5*s**2 + 0.198019801980198*s + 0.000633794013186139)/(s*(0.0099009900990099*s**3 + 0.1*s**2 + 0.099009900990099*s + 1.0))}\n",
      "-------------------------------------------------\n",
      "RisingFactorial(_t + 1, 1.0) contains an element of the set of generators.\n"
     ]
    },
    {
     "ename": "IndexError",
     "evalue": "list index out of range",
     "output_type": "error",
     "traceback": [
      "\u001b[1;31m---------------------------------------------------------------------------\u001b[0m",
      "\u001b[1;31mIndexError\u001b[0m                                Traceback (most recent call last)",
      "Cell \u001b[1;32mIn[8], line 1\u001b[0m\n\u001b[1;32m----> 1\u001b[0m model \u001b[39m=\u001b[39m Solver\u001b[39m.\u001b[39;49msolveLaplace(compiled, \u001b[39m0.4\u001b[39;49m, \u001b[39m0.001\u001b[39;49m, debugLog \u001b[39m=\u001b[39;49m \u001b[39mTrue\u001b[39;49;00m)\n",
      "File \u001b[1;32mc:\\Users\\Lenovo\\Desktop\\Mosfetiranje\\spiceLin\\solver.py:274\u001b[0m, in \u001b[0;36mSolver.solveLaplace\u001b[1;34m(compiled, tmax, tstep, debugLog)\u001b[0m\n\u001b[0;32m    270\u001b[0m         \u001b[39mprint\u001b[39m(e)\n\u001b[0;32m    272\u001b[0m     \u001b[39m#print(\"*****************************************\")\u001b[39;00m\n\u001b[1;32m--> 274\u001b[0m states, sol_t, conditions \u001b[39m=\u001b[39m current_solutions[\u001b[39m0\u001b[39;49m]\n\u001b[0;32m    275\u001b[0m \u001b[39m#print(states, sol_t, conditions)\u001b[39;00m\n\u001b[0;32m    277\u001b[0m ineqs \u001b[39m=\u001b[39m [\u001b[39mTrue\u001b[39;00m]\n",
      "\u001b[1;31mIndexError\u001b[0m: list index out of range"
     ]
    }
   ],
   "source": [
    "model = Solver.solveLaplace(compiled, 0.4, 0.001, debugLog = True)"
   ]
  },
  {
   "cell_type": "code",
   "execution_count": null,
   "metadata": {},
   "outputs": [
    {
     "ename": "NameError",
     "evalue": "name 'model' is not defined",
     "output_type": "error",
     "traceback": [
      "\u001b[1;31m---------------------------------------------------------------------------\u001b[0m",
      "\u001b[1;31mNameError\u001b[0m                                 Traceback (most recent call last)",
      "Cell \u001b[1;32mIn[9], line 1\u001b[0m\n\u001b[1;32m----> 1\u001b[0m printModel(model, var\u001b[39m=\u001b[39mvar)\n",
      "\u001b[1;31mNameError\u001b[0m: name 'model' is not defined"
     ]
    }
   ],
   "source": [
    "printModel(model, var=var)"
   ]
  },
  {
   "cell_type": "code",
   "execution_count": null,
   "metadata": {},
   "outputs": [],
   "source": [
    "Vin = var\n",
    "Id = compiled[\"currents\"][\"D1\"][\"Vp\"]\n",
    "Vd = compiled[\"voltages\"][\"D1\"][\"Vp\"] - compiled[\"voltages\"][\"D1\"][\"Vn\"]\n",
    "Vc = compiled[\"nodes\"][\"Vc\"]"
   ]
  },
  {
   "cell_type": "code",
   "execution_count": null,
   "metadata": {},
   "outputs": [],
   "source": [
    "measurments =   [   \n",
    "                    (Id, \"Id(t)\"),\n",
    "                    (Vd, \"Vd(t)\"),\n",
    "                    (Vd, \"Vd(t)\"),\n",
    "                    (Vc, \"Vc(t)\"),\n",
    "                    #(lambda sol : Uc.subs(sol), \"Uc\"),\n",
    "                ]\n",
    "\n",
    "fig, ax = plt.subplots(figsize=[11, 7])\n",
    "\n",
    "plotTranMeasurments(model, 0, 1, 0.001, measurments)\n",
    "plt.legend(loc=\"best\");\n",
    "plt.grid(True);\n",
    "plt.show()"
   ]
  },
  {
   "cell_type": "code",
   "execution_count": null,
   "metadata": {},
   "outputs": [],
   "source": [
    "measurments =   [   \n",
    "                    (Vin, Id, \"Id(Vin)\"),\n",
    "                    (Vin, Vd, \"Vd(Vin)\"),\n",
    "                    #(lambda sol : Uc.subs(sol), \"Uc\"),\n",
    "                ]\n",
    "\n",
    "fig, ax = plt.subplots(figsize=[11, 7])\n",
    "\n",
    "plotMeasurments(model, -50, 50, 0.1, measurments, var)\n",
    "plt.legend(loc=\"best\");\n",
    "plt.grid(True);\n",
    "plt.show()"
   ]
  },
  {
   "cell_type": "code",
   "execution_count": null,
   "metadata": {},
   "outputs": [],
   "source": []
  }
 ],
 "metadata": {
  "kernelspec": {
   "display_name": "Python 3",
   "language": "python",
   "name": "python3"
  },
  "language_info": {
   "codemirror_mode": {
    "name": "ipython",
    "version": 3
   },
   "file_extension": ".py",
   "mimetype": "text/x-python",
   "name": "python",
   "nbconvert_exporter": "python",
   "pygments_lexer": "ipython3",
   "version": "3.11.1"
  },
  "orig_nbformat": 4,
  "vscode": {
   "interpreter": {
    "hash": "5238573367df39f7286bb46f9ff5f08f63a01a80960060ce41e3c79b190280fa"
   }
  }
 },
 "nbformat": 4,
 "nbformat_minor": 2
}
