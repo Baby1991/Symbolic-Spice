{
 "cells": [
  {
   "cell_type": "code",
   "execution_count": null,
   "metadata": {},
   "outputs": [],
   "source": [
    "%matplotlib widget\n",
    "from solvers import *\n",
    "from circuit.models import NPN, PNP, Diode, Resistor, VoltageSource, CurrentSource, OpAmp, Capacitor, Inductor\n",
    "import sympy as sp\n",
    "from sympy import Heaviside, sin, cos\n",
    "sp.init_printing()"
   ]
  },
  {
   "cell_type": "code",
   "execution_count": null,
   "metadata": {},
   "outputs": [],
   "source": [
    "Vcc = 5\n",
    "\n",
    "var = sp.Symbol(\"Vin\", real=True)"
   ]
  },
  {
   "cell_type": "code",
   "execution_count": null,
   "metadata": {},
   "outputs": [],
   "source": [
    "multivibrator = Solver.Circuit(\"multivibrator\")\n",
    "multivibrator.element(\n",
    "    Resistor(\"R\", {\"V1\" : \"Vc\", \"V2\" : \"Vout\"}, R = 50e3),\n",
    "    OpAmp(\"Op1\", {\"V+\" : \"V+\", \"V-\" : \"Vc\", \"Vop\" : \"Vout\", \"Vcc\" : Vcc, \"Vee\" : -Vcc}),\n",
    "    Resistor(\"R1\", {\"V1\" : \"Vout\", \"V2\" : \"V+\"}, R = 35e3),\n",
    "    Resistor(\"R2\", {\"V1\" : \"V+\", \"V2\" : Gnd}, R = 30e3),\n",
    "    Capacitor(\"C1\", {\"V1\" : \"Vc\", \"V2\" : Gnd}, C = 10e-9, V0 = 1e-1),\n",
    ")"
   ]
  },
  {
   "cell_type": "code",
   "execution_count": null,
   "metadata": {},
   "outputs": [],
   "source": [
    "opTest = Solver.Circuit(\"opTest\")\n",
    "opTest.element(\n",
    "    \n",
    "    Resistor(\"Rc\", {\"V1\" : Vcc, \"V2\" : \"Vc\"}, R = 1e3),\n",
    "    \n",
    "    Capacitor(\"Cout\", {\"V1\" : \"Vc\", \"V2\" : \"Vout\"}),\n",
    "    Resistor(\"Rout\", {\"V1\" : \"Vout\", \"V2\" : Gnd}, R = 1e3),\n",
    "    \n",
    "    NPN(\"Q1\", {\"Vc\" : \"Vc\", \"Vb\" : \"Vb\", \"Ve\" : Gnd}),\n",
    "    \n",
    "    VoltageSource(\"Vbb\", {\"V+\" : \"Vbb\", \"V-\" : Gnd}, Vdc = 1.6),\n",
    "    Resistor(\"Rb\", {\"V1\" : \"Vbb\", \"V2\" : \"Vb\"}, R = 31.2e3),\n",
    "    \n",
    "    Capacitor(\"Cin\", {\"V1\" : \"Vg\", \"V2\" : \"Vb\"}),\n",
    "    Resistor(\"Rg\", {\"V1\" : \"Vin\", \"V2\" : \"Vg\"}, R = 1e3),\n",
    "    VoltageSource(\"Vg\", {\"V+\" : \"Vin\", \"V-\" : Gnd}, Vac = var),\n",
    ")"
   ]
  },
  {
   "cell_type": "code",
   "execution_count": null,
   "metadata": {},
   "outputs": [],
   "source": [
    "Solver.setMain(\"acTest\")\n",
    "compiled = Solver.compile()"
   ]
  },
  {
   "cell_type": "code",
   "execution_count": null,
   "metadata": {},
   "outputs": [],
   "source": [
    "model = solveTransient(compiled, 10, 1e-2, debugLog = True)"
   ]
  },
  {
   "cell_type": "code",
   "execution_count": null,
   "metadata": {},
   "outputs": [],
   "source": [
    "print(compiled[\"nodes\"])\n",
    "#Vin = var\n",
    "Vin = compiled[\"voltages\"][\"Vg\"][\"V+\"]\n",
    "Id = compiled[\"currents\"][\"D1\"][\"Vp\"]\n",
    "Vd = compiled[\"voltages\"][\"D1\"][\"Vp\"] - compiled[\"voltages\"][\"D1\"][\"Vn\"]\n",
    "#Vc = compiled[\"voltages\"][\"C1\"][\"V1\"] - compiled[\"voltages\"][\"C1\"][\"V2\"]\n",
    "Vc = compiled[\"nodes\"][\"Vc\"]\n",
    "\n",
    "#Ic = compiled[\"currents\"][\"Q1\"][\"Vc\"]\n",
    "#Vc = compiled[\"voltages\"][\"Q1\"][\"Vc\"]"
   ]
  },
  {
   "cell_type": "code",
   "execution_count": null,
   "metadata": {},
   "outputs": [],
   "source": [
    "printModel(model, var=t, important={Vin, Vc})"
   ]
  },
  {
   "cell_type": "code",
   "execution_count": null,
   "metadata": {},
   "outputs": [],
   "source": [
    "measurments =   [   \n",
    "                    (Vin, \"Vin(t)\"),\n",
    "                    #(1e3 * Id, \"Id(t)\"),\n",
    "                    #(Vd, \"Vd(t)\"),\n",
    "                    (Vc, \"Vc(t)\"),\n",
    "                    #(lambda sol : Uc.subs(sol), \"Uc\"),\n",
    "                ]\n",
    "\n",
    "fig, ax = plt.subplots(figsize=[15, 7])\n",
    "\n",
    "plotTranMeasurments(model, 0, 10, 0.1, measurments)\n",
    "#plotMeasurments(model, -10, 10, 0.1, measurments)\n",
    "#plt.legend(loc=\"best\");\n",
    "plt.grid(True);\n",
    "plt.show()"
   ]
  },
  {
   "cell_type": "code",
   "execution_count": null,
   "metadata": {},
   "outputs": [],
   "source": [
    "measurments =   [   \n",
    "                    (1e6 * Id, \"Id(t)\"),\n",
    "                    (Vd, \"Vd(t)\"),\n",
    "                    #(lambda sol : Uc.subs(sol), \"Uc\"),\n",
    "                ]\n",
    "\n",
    "fig, ax = plt.subplots(figsize=[15, 7])\n",
    "\n",
    "plotTranMeasurments(model, 0, 10, 0.1, measurments)\n",
    "#plotMeasurments(model, -10, 10, 0.1, measurments)\n",
    "#plt.legend(loc=\"best\");\n",
    "plt.grid(True);\n",
    "plt.show()"
   ]
  },
  {
   "cell_type": "code",
   "execution_count": null,
   "metadata": {},
   "outputs": [],
   "source": []
  }
 ],
 "metadata": {
  "kernelspec": {
   "display_name": "Python 3",
   "language": "python",
   "name": "python3"
  },
  "language_info": {
   "codemirror_mode": {
    "name": "ipython",
    "version": 3
   },
   "file_extension": ".py",
   "mimetype": "text/x-python",
   "name": "python",
   "nbconvert_exporter": "python",
   "pygments_lexer": "ipython3",
   "version": "3.11.1"
  },
  "orig_nbformat": 4,
  "vscode": {
   "interpreter": {
    "hash": "5238573367df39f7286bb46f9ff5f08f63a01a80960060ce41e3c79b190280fa"
   }
  }
 },
 "nbformat": 4,
 "nbformat_minor": 2
}
