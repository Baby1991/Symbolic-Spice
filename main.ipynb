{
 "cells": [
  {
   "cell_type": "code",
   "execution_count": null,
   "metadata": {},
   "outputs": [],
   "source": [
    "%matplotlib widget\n",
    "from circuit import *\n",
    "from solver import *\n",
    "\n",
    "from models import NPN, PNP, Diode, Resistor, VoltageSource, CurrentSource, OpAmp\n",
    "import sympy as sp"
   ]
  },
  {
   "cell_type": "code",
   "execution_count": null,
   "metadata": {},
   "outputs": [
    {
     "name": "stdout",
     "output_type": "stream",
     "text": [
      "2\n"
     ]
    },
    {
     "data": {
      "text/plain": [
       "{'V1'}"
      ]
     },
     "execution_count": 2,
     "metadata": {},
     "output_type": "execute_result"
    }
   ],
   "source": [
    "subcircuit2 = Circuit()\n",
    "\n",
    "Vin  = subcircuit2.addPort()\n",
    "V1 = subcircuit2.addNode()\n",
    "Vout = subcircuit2.addPort()\n",
    "\n",
    "D1, R1, R2 = subcircuit2.addElements(\n",
    "                        Diode(\"D1\", (Vin, V1), Vd=0.6),\n",
    "                        Resistor(\"R1\", (V1, Vout), R=1e3),\n",
    "                        Resistor(\"R2\", (Vout, Gnd), R=1e3),\n",
    "                        ).values()\n",
    "\n",
    "V2, V3 = subcircuit2.addNodes(2)"
   ]
  },
  {
   "cell_type": "code",
   "execution_count": 3,
   "metadata": {},
   "outputs": [
    {
     "data": {
      "text/plain": [
       "[P0, V0]"
      ]
     },
     "execution_count": 3,
     "metadata": {},
     "output_type": "execute_result"
    }
   ],
   "source": [
    "D1.Vs"
   ]
  },
  {
   "cell_type": "code",
   "execution_count": 7,
   "metadata": {},
   "outputs": [
    {
     "data": {
      "text/plain": [
       "{'variables': {I_Sub1_D1_0,\n",
       "  I_Sub1_D1_1,\n",
       "  I_Sub1_R1_0,\n",
       "  I_Sub1_R1_1,\n",
       "  I_Sub1_R2_0,\n",
       "  I_Sub1_R2_1,\n",
       "  I_Sub2_D1_0,\n",
       "  I_Sub2_D1_1,\n",
       "  I_Sub2_R1_0,\n",
       "  I_Sub2_R1_1,\n",
       "  I_Sub2_R2_0,\n",
       "  I_Sub2_R2_1,\n",
       "  I_Vg_0,\n",
       "  I_Vg_1,\n",
       "  V0,\n",
       "  V3,\n",
       "  V4},\n",
       " 'equations': {Eq(I_Sub1_D1_0 + I_Sub2_D1_0 + I_Vg_0, 0),\n",
       "  Eq(I_Sub1_D1_1 + I_Sub1_R1_0, 0),\n",
       "  Eq(I_Sub1_R1_1 + I_Sub1_R2_0 + I_Sub2_R1_1 + I_Sub2_R2_0, 0),\n",
       "  Eq(I_Sub2_D1_1 + I_Sub2_R1_0, 0)},\n",
       " 'nodes': {'V3': <node.Node at 0x19fc2cada50>,\n",
       "  'V4': <node.Node at 0x19fc2cae510>,\n",
       "  'Sub1_V1': <node.Node at 0x19fc2c617d0>,\n",
       "  'Sub2_V1': <node.Node at 0x19fc2caf4d0>},\n",
       " 'elements': {'Vg': <models.VoltageSource at 0x19fc2cae890>,\n",
       "  'Sub1_D1': <models.Diode at 0x19fc2caec50>,\n",
       "  'Sub1_R1': <models.Resistor at 0x19fc2caf190>,\n",
       "  'Sub1_R2': <models.Resistor at 0x19fc2caf210>,\n",
       "  'Sub2_D1': <models.Diode at 0x19fc2caf410>,\n",
       "  'Sub2_R1': <models.Resistor at 0x19fc2caf850>,\n",
       "  'Sub2_R2': <models.Resistor at 0x19fc2caf950>}}"
      ]
     },
     "execution_count": 7,
     "metadata": {},
     "output_type": "execute_result"
    }
   ],
   "source": [
    "circuit = Circuit()\n",
    "\n",
    "var = Symbol(\"Vin\", real=True)\n",
    "\n",
    "Vcc = 5\n",
    "R = 10\n",
    "\n",
    "V1, V2 = circuit.addNodes(2)\n",
    "\n",
    "circuit.addElements(\n",
    "                    VoltageSource(\"Vg\", (V1, Gnd), Vdc = var),             \n",
    "                    )\n",
    "\n",
    "circuit.addSubcircuit(subcircuit2, \"Sub1\", {'Vin' : V1, 'Vout' : V2})\n",
    "circuit.addSubcircuit(subcircuit2, \"Sub2\", {'Vin' : V1, 'Vout' : V2})\n",
    "\n",
    "circuit.compile()"
   ]
  },
  {
   "cell_type": "code",
   "execution_count": 5,
   "metadata": {},
   "outputs": [
    {
     "name": "stdout",
     "output_type": "stream",
     "text": [
      "{I_Vg_1, I_Sub1_D1_1, I_Sub1_R2_1, I_Sub1_D1_0, I_Sub1_R1_1, I_Vg_0, I_Sub1_R1_0, V2, V0, V1, I_Sub1_R2_0}\n",
      "{Eq(I_Sub1_D1_1 + I_Sub1_R1_0, 0), Eq(I_Sub1_R1_1 + I_Sub1_R2_0, 0), Eq(I_Sub1_D1_0 + I_Vg_0, 0)}\n",
      "{'Vg': <models.VoltageSource object at 0x0000019FC1F5D4D0>, 'Sub1_D1': <models.Diode object at 0x0000019FC25E42D0>, 'Sub1_R1': <models.Resistor object at 0x0000019FC20FB290>, 'Sub1_R2': <models.Resistor object at 0x0000019FC073F010>}\n",
      "[Eq(I_Sub1_D1_1 + I_Sub1_R1_0, 0), Eq(I_Sub1_R1_1 + I_Sub1_R2_0, 0), Eq(I_Sub1_D1_0 + I_Vg_0, 0), Eq(V1, Vin), Eq(I_Vg_0 + I_Vg_1, 0), Eq(I_Sub1_D1_0, 0), Eq(I_Sub1_D1_1, 0), Eq(I_Sub1_R1_0, 0.001*V0 - 0.001*V2), Eq(I_Sub1_R1_0 + I_Sub1_R1_1, 0), Eq(I_Sub1_R2_0, 0.001*V2), Eq(I_Sub1_R2_0 + I_Sub1_R2_1, 0)]\n",
      "[-V0 + V1 < 0.6]\n",
      "{'Sub1_D1': 'Cut'}\n",
      "{I_Sub1_D1_1: 0.0, I_Sub1_R1_0: 0.0, I_Sub1_R1_1: 0.0, I_Sub1_R2_0: 0.0, I_Sub1_R2_1: 0.0, V0: 0.0, V2: 0.0, I_Sub1_D1_0: 0.0, I_Vg_0: 0.0, I_Vg_1: 0.0, V1: Vin}\n",
      "[Vin < 0.6]\n",
      "Interval.open(-oo, 0.600000000000000)\n",
      "-------------------------------------\n",
      "[Eq(I_Sub1_D1_1 + I_Sub1_R1_0, 0), Eq(I_Sub1_R1_1 + I_Sub1_R2_0, 0), Eq(I_Sub1_D1_0 + I_Vg_0, 0), Eq(V1, Vin), Eq(I_Vg_0 + I_Vg_1, 0), Eq(-V0 + V1, 0.6), Eq(I_Sub1_D1_0 + I_Sub1_D1_1, 0), Eq(I_Sub1_R1_0, 0.001*V0 - 0.001*V2), Eq(I_Sub1_R1_0 + I_Sub1_R1_1, 0), Eq(I_Sub1_R2_0, 0.001*V2), Eq(I_Sub1_R2_0 + I_Sub1_R2_1, 0)]\n",
      "[I_Sub1_D1_0 >= 0]\n",
      "{'Sub1_D1': 'Fwd'}\n",
      "{I_Sub1_D1_0: 0.0005*Vin - 0.0003, I_Sub1_D1_1: 0.0003 - 0.0005*Vin, I_Sub1_R1_0: 0.0005*Vin - 0.0003, I_Sub1_R1_1: 0.0003 - 0.0005*Vin, I_Sub1_R2_0: 0.0005*Vin - 0.0003, I_Sub1_R2_1: 0.0003 - 0.0005*Vin, I_Vg_0: 0.0003 - 0.0005*Vin, I_Vg_1: 0.0005*Vin - 0.0003, V0: Vin - 0.6, V1: Vin, V2: 0.5*Vin - 0.3}\n",
      "[0.0005*Vin - 0.0003 >= 0]\n",
      "Interval(0.600000000000000, oo)\n",
      "-------------------------------------\n"
     ]
    }
   ],
   "source": [
    "solver = Solver(circuit)\n",
    "model = solver.solveDC(debugLog=True)"
   ]
  },
  {
   "cell_type": "code",
   "execution_count": 6,
   "metadata": {},
   "outputs": [
    {
     "name": "stdout",
     "output_type": "stream",
     "text": [
      "-------------------------------------\n",
      "{'Sub1_D1': 'Cut'}\n",
      "Vin ∈ Interval.open(-oo, 0.600000000000000)\n",
      "{I_Sub1_D1_1: 0.0, I_Sub1_R1_0: 0.0, I_Sub1_R1_1: 0.0, I_Sub1_R2_0: 0.0, I_Sub1_R2_1: 0.0, V0: 0.0, V2: 0.0, I_Sub1_D1_0: 0.0, I_Vg_0: 0.0, I_Vg_1: 0.0, V1: Vin}\n",
      "-------------------------------------\n",
      "-------------------------------------\n",
      "{'Sub1_D1': 'Fwd'}\n",
      "Vin ∈ Interval(0.600000000000000, oo)\n",
      "{I_Sub1_D1_0: 0.0005*Vin - 0.0003, I_Sub1_D1_1: 0.0003 - 0.0005*Vin, I_Sub1_R1_0: 0.0005*Vin - 0.0003, I_Sub1_R1_1: 0.0003 - 0.0005*Vin, I_Sub1_R2_0: 0.0005*Vin - 0.0003, I_Sub1_R2_1: 0.0003 - 0.0005*Vin, I_Vg_0: 0.0003 - 0.0005*Vin, I_Vg_1: 0.0005*Vin - 0.0003, V0: Vin - 0.6, V1: Vin, V2: 0.5*Vin - 0.3}\n",
      "-------------------------------------\n",
      "***************************************************************************************************************\n"
     ]
    }
   ],
   "source": [
    "Solver.printModel(model, var)"
   ]
  },
  {
   "cell_type": "code",
   "execution_count": null,
   "metadata": {},
   "outputs": [],
   "source": [
    "from sympy import diff\n",
    "\n",
    "Id = circuit.currentThroughElement(\"Sub1_D1\")\n",
    "\n",
    "measurments =   [   \n",
    "                    (lambda sol : V2().subs(sol), \"Vout\"),\n",
    "                    (lambda sol : Id.subs(sol), \"Id\"),\n",
    "                ]\n",
    "\n",
    "fig, ax = plt.subplots(figsize=[11, 7])\n",
    "plotMeasurments(model, -10, 10, 0.1, measurments, var)\n",
    "plt.legend(loc=\"best\");\n",
    "plt.grid(True);\n"
   ]
  },
  {
   "cell_type": "code",
   "execution_count": null,
   "metadata": {},
   "outputs": [],
   "source": []
  }
 ],
 "metadata": {
  "kernelspec": {
   "display_name": "Python 3",
   "language": "python",
   "name": "python3"
  },
  "language_info": {
   "codemirror_mode": {
    "name": "ipython",
    "version": 3
   },
   "file_extension": ".py",
   "mimetype": "text/x-python",
   "name": "python",
   "nbconvert_exporter": "python",
   "pygments_lexer": "ipython3",
   "version": "3.11.1"
  },
  "orig_nbformat": 4,
  "vscode": {
   "interpreter": {
    "hash": "5238573367df39f7286bb46f9ff5f08f63a01a80960060ce41e3c79b190280fa"
   }
  }
 },
 "nbformat": 4,
 "nbformat_minor": 2
}
