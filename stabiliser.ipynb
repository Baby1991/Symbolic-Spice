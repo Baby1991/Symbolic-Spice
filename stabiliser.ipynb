{
 "cells": [
  {
   "cell_type": "code",
   "execution_count": null,
   "metadata": {},
   "outputs": [],
   "source": [
    "%matplotlib widget\n",
    "from main import *\n",
    "import sympy as sp\n",
    "import matplotlib.pyplot as plt\n",
    "from sympy import Heaviside, sin, cos\n",
    "sp.init_printing()"
   ]
  },
  {
   "cell_type": "code",
   "execution_count": null,
   "metadata": {},
   "outputs": [],
   "source": [
    "Vcc = 5\n",
    "\n",
    "Vin = 10 + 6 * sin(t)"
   ]
  },
  {
   "cell_type": "code",
   "execution_count": null,
   "metadata": {},
   "outputs": [],
   "source": [
    "stabilisator = Solver.Circuit(\"stabilisator\")\n",
    "stabilisator.element(\n",
    "                    VoltageSource(\"Vg\", {\"V+\" : \"Vg\", \"V-\" : Gnd}, V_t = Vin),\n",
    "                    \n",
    "                    Resistor(\"Rz\", {\"V1\" : \"Vg\", \"V2\" : \"Vz\"}, R = 10e3),\n",
    "                    Diode(\"Dz\", {\"Vp\" : \"Vz\", \"Vn\" : Gnd}, Vd = 5),\n",
    "                    \n",
    "                    NPN(\"Q1\", {\"Vc\" : \"Vg\", \"Vb\" : \"Vz\", \"Ve\" : \"Vout\"}),\n",
    "                    \n",
    "                    Resistor(\"Rl\", {\"V1\" : \"Vout\", \"V2\" : Gnd}, R = 4.4e3),\n",
    "                    #CurrentSource(\"Iout\", {\"V+\" : \"Vout\", \"V-\" : Gnd}, I_t = -1e-3*t),\n",
    "                    \n",
    ")"
   ]
  },
  {
   "cell_type": "code",
   "execution_count": null,
   "metadata": {},
   "outputs": [],
   "source": [
    "Solver.setMain(\"stabilisator\")\n",
    "compiled = Solver.compile()"
   ]
  },
  {
   "cell_type": "code",
   "execution_count": null,
   "metadata": {},
   "outputs": [],
   "source": [
    "print(compiled[\"nodes\"])\n",
    "\n",
    "Vin = compiled[\"voltages\"][\"Vg\"][\"V+\"]\n",
    "Iin = compiled[\"currents\"][\"Vg\"][\"V-\"]\n",
    "Vout = compiled[\"nodes\"][\"Vout\"]\n",
    "Iout = compiled[\"currents\"][\"Rl\"][\"V1\"]\n",
    "\n",
    "print(Vin)\n",
    "print(Iin)\n",
    "print(Vout)\n",
    "print(Iout)"
   ]
  },
  {
   "cell_type": "code",
   "execution_count": null,
   "metadata": {},
   "outputs": [],
   "source": [
    "try: \n",
    "    model = loadModel(\"stabilisator\", \"Laplace\")\n",
    "except (OSError, IOError) as e:\n",
    "    model = solveLaplace(compiled, 2 * sp.pi, tstep = 0.1, measurments = {Vin, Iin, Vout, Iout}, workerN = 2, debugLog = True)\n",
    "    saveModel(\"stabilisator\", \"Laplace\", model)\n"
   ]
  },
  {
   "cell_type": "code",
   "execution_count": null,
   "metadata": {},
   "outputs": [],
   "source": [
    "printModel(model, var=t, measurments=[Vin, Iin, Vout, Iout])"
   ]
  },
  {
   "cell_type": "code",
   "execution_count": null,
   "metadata": {},
   "outputs": [],
   "source": [
    "measurments =   [   \n",
    "                    (t, Vin, \"Vin(t)\"),\n",
    "                    (t, Vout, \"Vout(t)\"),\n",
    "                ]\n",
    "\n",
    "fig, ax = plt.subplots(figsize=[15, 7])\n",
    "\n",
    "plotTranMeasurments(model, 0, 10, 0.01, measurments, ax)\n",
    "#plotMeasurments(model, -10, 10, 0.1, measurments)\n",
    "#plt.legend(loc=\"best\");\n",
    "plt.grid(True);\n",
    "plt.show()"
   ]
  },
  {
   "cell_type": "code",
   "execution_count": null,
   "metadata": {},
   "outputs": [],
   "source": [
    "measurments =   [   \n",
    "                    (t, 1e3 * Iin, \"Iin(t)\"),\n",
    "                    (t, 1e3 * Iout, \"Iout(t)\"),\n",
    "                ]\n",
    "\n",
    "fig, ax = plt.subplots(figsize=[15, 7])\n",
    "\n",
    "plotTranMeasurments(model, 0, 10, 0.01, measurments, ax)\n",
    "#plotMeasurments(model, -10, 10, 0.1, measurments)\n",
    "#plt.legend(loc=\"best\");\n",
    "plt.grid(True);\n",
    "plt.show()"
   ]
  },
  {
   "cell_type": "code",
   "execution_count": null,
   "metadata": {},
   "outputs": [],
   "source": [
    "measurments =   [   \n",
    "                    (Vout, 1e3 * Iout, \"Iin(t)\"),\n",
    "                ]\n",
    "\n",
    "fig, ax = plt.subplots(figsize=[15, 7])\n",
    "\n",
    "plotTranMeasurments(model, 0, 10, 0.01, measurments, ax)\n",
    "#plotMeasurments(model, -10, 10, 0.1, measurments)\n",
    "#plt.legend(loc=\"best\");\n",
    "plt.grid(True);\n",
    "plt.show()"
   ]
  }
 ],
 "metadata": {
  "kernelspec": {
   "display_name": "Python 3",
   "language": "python",
   "name": "python3"
  },
  "language_info": {
   "codemirror_mode": {
    "name": "ipython",
    "version": 3
   },
   "file_extension": ".py",
   "mimetype": "text/x-python",
   "name": "python",
   "nbconvert_exporter": "python",
   "pygments_lexer": "ipython3",
   "version": "3.11.1"
  },
  "orig_nbformat": 4,
  "vscode": {
   "interpreter": {
    "hash": "5238573367df39f7286bb46f9ff5f08f63a01a80960060ce41e3c79b190280fa"
   }
  }
 },
 "nbformat": 4,
 "nbformat_minor": 2
}
