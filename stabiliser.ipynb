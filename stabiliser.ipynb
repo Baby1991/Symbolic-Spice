{
 "cells": [
  {
   "cell_type": "code",
   "execution_count": 23,
   "metadata": {},
   "outputs": [],
   "source": [
    "%matplotlib widget\n",
    "from main import *\n",
    "import sympy as sp\n",
    "import matplotlib.pyplot as plt\n",
    "sp.init_printing()"
   ]
  },
  {
   "cell_type": "code",
   "execution_count": 24,
   "metadata": {},
   "outputs": [],
   "source": [
    "Vin = sp.symbols('Vin')"
   ]
  },
  {
   "cell_type": "code",
   "execution_count": null,
   "metadata": {},
   "outputs": [],
   "source": [
    "stabilisator = Solver.Circuit(\"stabilisator\")\n",
    "stabilisator.element(\n",
    "                    VoltageSource(\"Vg\", {\"V+\" : \"Vg\", \"V-\" : Gnd}, V = Vin),\n",
    "                    \n",
    "                    Resistor(\"Rz\", {\"V1\" : \"Vg\", \"V2\" : \"Vz\"}, R = 10e3),\n",
    "                    Diode(\"Dz\", {\"Vp\" : \"Vz\", \"Vn\" : Gnd}, Vd = 5.6),\n",
    "                    \n",
    "                    NPN(\"Q1\", {\"Vc\" : \"Vg\", \"Vb\" : \"Vz\", \"Ve\" : \"Vout\"}),\n",
    "                    \n",
    "                    Resistor(\"Rl\", {\"V1\" : \"Vout\", \"V2\" : Gnd}, R = 4.4e3),                    \n",
    ")"
   ]
  },
  {
   "cell_type": "code",
   "execution_count": 26,
   "metadata": {},
   "outputs": [],
   "source": [
    "Solver.setMain(\"stabilisator\")\n",
    "compiled = Solver.compile()"
   ]
  },
  {
   "cell_type": "code",
   "execution_count": null,
   "metadata": {},
   "outputs": [],
   "source": [
    "print(compiled[\"nodes\"])\n",
    "\n",
    "Iin = compiled[\"currents\"][\"Vg\"][\"V-\"]\n",
    "Vout = compiled[\"nodes\"][\"Vout\"]\n",
    "Iout = compiled[\"currents\"][\"Rl\"][\"V1\"]\n",
    "Vz = compiled[\"nodes\"][\"Vz\"]\n",
    "Iz = compiled[\"currents\"][\"Rz\"][\"V1\"]"
   ]
  },
  {
   "cell_type": "code",
   "execution_count": null,
   "metadata": {},
   "outputs": [],
   "source": [
    "model = solveOP(compiled)"
   ]
  },
  {
   "cell_type": "code",
   "execution_count": null,
   "metadata": {},
   "outputs": [],
   "source": [
    "printModel(model, var=Vin, measurments=[Vout])"
   ]
  },
  {
   "cell_type": "code",
   "execution_count": null,
   "metadata": {},
   "outputs": [],
   "source": [
    "measurments =   [   \n",
    "                    (Vin, Vout, \"Vout(Vin)\"),\n",
    "                    #(Vin, Iin, \"Iin(Vin)\"),\n",
    "                    (Vin, Vz, \"Vz(Vin)\"),\n",
    "                    #(Vin, Iz, \"Iz(Vin)\"),\n",
    "                    #(Vin, Iout, \"Iout(Vin)\"),                    \n",
    "                ]\n",
    "\n",
    "plotMeasurments(model, Vin, 0, 10, 0.1, measurments)"
   ]
  },
  {
   "cell_type": "code",
   "execution_count": null,
   "metadata": {},
   "outputs": [],
   "source": []
  }
 ],
 "metadata": {
  "kernelspec": {
   "display_name": "Python 3",
   "language": "python",
   "name": "python3"
  },
  "language_info": {
   "codemirror_mode": {
    "name": "ipython",
    "version": 3
   },
   "file_extension": ".py",
   "mimetype": "text/x-python",
   "name": "python",
   "nbconvert_exporter": "python",
   "pygments_lexer": "ipython3",
   "version": "3.12.6"
  },
  "orig_nbformat": 4,
  "vscode": {
   "interpreter": {
    "hash": "5238573367df39f7286bb46f9ff5f08f63a01a80960060ce41e3c79b190280fa"
   }
  }
 },
 "nbformat": 4,
 "nbformat_minor": 2
}
