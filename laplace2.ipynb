{
 "cells": [
  {
   "cell_type": "code",
   "execution_count": 1,
   "metadata": {},
   "outputs": [],
   "source": [
    "%matplotlib widget\n",
    "from main import *\n",
    "import sympy as sp\n",
    "from sympy import Heaviside, sin, cos\n",
    "sp.init_printing()\n",
    "import matplotlib.pyplot as plt"
   ]
  },
  {
   "cell_type": "code",
   "execution_count": 2,
   "metadata": {},
   "outputs": [],
   "source": [
    "R1 = sp.symbols(\"R1\", positive=True)\n",
    "R2 = sp.symbols(\"R2\", positive=True)\n",
    "R3 = sp.symbols(\"R3\", positive=True)\n",
    "Vcc = sp.symbols(\"Vcc\", positive=True)\n",
    "C = sp.symbols(\"C\", positive=True)\n",
    "#Vc0 = sp.symbols(\"Vc0\", negative=True)"
   ]
  },
  {
   "cell_type": "code",
   "execution_count": 3,
   "metadata": {},
   "outputs": [
    {
     "data": {
      "text/plain": [
       "{'R': {'name': 'R', 'type': 'Resistor', 'nodes': {'V1': 'Vc', 'V2': 'Vout'}, 'values': {'R': R1}},\n",
       " 'Op1': {'name': 'Op1', 'type': 'OpAmp', 'nodes': {'V+': 'V+', 'V-': 'Vc', 'Vop': 'Vout', 'Vcc': Vcc, 'Vee': -Vcc}, 'values': {'Av': oo}},\n",
       " 'R1': {'name': 'R1', 'type': 'Resistor', 'nodes': {'V1': 'Vout', 'V2': 'V+'}, 'values': {'R': R2}},\n",
       " 'R2': {'name': 'R2', 'type': 'Resistor', 'nodes': {'V1': 'V+', 'V2': 0}, 'values': {'R': R3}},\n",
       " 'C1': {'name': 'C1', 'type': 'Capacitor', 'nodes': {'V1': 'Vc', 'V2': 0}, 'values': {'C': C, 'V0': Vcc}}}"
      ]
     },
     "execution_count": 3,
     "metadata": {},
     "output_type": "execute_result"
    }
   ],
   "source": [
    "multivibrator = Solver.Circuit(\"multivibrator\")\n",
    "multivibrator.element(\n",
    "    Resistor(\"R\", {\"V1\" : \"Vc\", \"V2\" : \"Vout\"}, R = R1),\n",
    "    OpAmp(\"Op1\", {\"V+\" : \"V+\", \"V-\" : \"Vc\", \"Vop\" : \"Vout\", \"Vcc\" : Vcc, \"Vee\" : -Vcc}),\n",
    "    Resistor(\"R1\", {\"V1\" : \"Vout\", \"V2\" : \"V+\"}, R = R2),\n",
    "    Resistor(\"R2\", {\"V1\" : \"V+\", \"V2\" : Gnd}, R = R3),\n",
    "    Capacitor(\"C1\", {\"V1\" : \"Vc\", \"V2\" : Gnd}, C = C, V0 = Vcc),\n",
    ")"
   ]
  },
  {
   "cell_type": "code",
   "execution_count": 4,
   "metadata": {},
   "outputs": [],
   "source": [
    "Solver.setMain(\"multivibrator\")\n",
    "compiled = Solver.compile()"
   ]
  },
  {
   "cell_type": "code",
   "execution_count": 5,
   "metadata": {},
   "outputs": [
    {
     "name": "stdout",
     "output_type": "stream",
     "text": [
      "{V0, I1_4, I0_1, I1_1, I0_0, I4_1, I1_2, V1, I2_0, I3_0, I1_0, I2_1, I3_1, I4_0, V2, I1_3}\n",
      "[Eq(I1_0 + I2_1 + I3_0, 0), Eq(I0_0 + I1_1 + I4_0, 0), Eq(I0_1 + I1_2 + I2_0, 0)]\n",
      "{'R': {'name': 'R', 'type': 'Resistor', 'nodes': {'V1': 'Vc', 'V2': 'Vout'}, 'values': {'R': R1}}, 'Op1': {'name': 'Op1', 'type': 'OpAmp', 'nodes': {'V+': 'V+', 'V-': 'Vc', 'Vop': 'Vout', 'Vcc': Vcc, 'Vee': -Vcc}, 'values': {'Av': inf}}, 'R1': {'name': 'R1', 'type': 'Resistor', 'nodes': {'V1': 'Vout', 'V2': 'V+'}, 'values': {'R': R2}}, 'R2': {'name': 'R2', 'type': 'Resistor', 'nodes': {'V1': 'V+', 'V2': 0}, 'values': {'R': R3}}, 'C1': {'name': 'C1', 'type': 'Capacitor', 'nodes': {'V1': 'Vc', 'V2': 0}, 'values': {'C': C, 'V0': Vcc}}}\n",
      "{'R': {'V1': V1, 'V2': V2}, 'Op1': {'V+': V0, 'V-': V1, 'Vop': V2, 'Vcc': Vcc, 'Vee': -Vcc}, 'R1': {'V1': V2, 'V2': V0}, 'R2': {'V1': V0, 'V2': 0}, 'C1': {'V1': V1, 'V2': 0}}\n",
      "{'R': {'V1': I0_0, 'V2': I0_1}, 'Op1': {'V+': I1_0, 'V-': I1_1, 'Vop': I1_2, 'Vcc': I1_3, 'Vee': I1_4}, 'R1': {'V1': I2_0, 'V2': I2_1}, 'R2': {'V1': I3_0, 'V2': I3_1}, 'C1': {'V1': I4_0, 'V2': I4_1}}\n",
      "***************************************\n",
      "{('Op1', 'Amp')}\n",
      "[Eq(I0_0, (V1 - V2)/R1), Eq(I0_0 + I0_1, 0), Eq(I1_0, 0), Eq(I1_1, 0), Eq(I1_3, 0), Eq(I1_4, 0), Eq(0, V0 - V1), Eq(I2_0, (-V0 + V2)/R2), Eq(I2_0 + I2_1, 0), Eq(I3_0, V0/R3), Eq(I3_0 + I3_1, 0), Eq(I4_0, C*(V1*s - Vcc)), Eq(I4_0 + I4_1, 0), Eq(I1_0 + I2_1 + I3_0, 0), Eq(I0_0 + I1_1 + I4_0, 0), Eq(I0_1 + I1_2 + I2_0, 0)]\n",
      "{('Op1', 'Amp'): [V2 < Vcc, V2 > -Vcc]}\n",
      "{'SatMax': [Eq(V2, Vcc)], 'SatMin': [Eq(V2, -Vcc)]}\n",
      "{V2}\n",
      "-------------------------------------------------\n",
      "{I0_0: -C*R2*Vcc/(C*R1*R3*s - R2), I0_1: C*R2*Vcc/(C*R1*R3*s - R2), I1_0: 0, I1_1: 0, I1_2: C*Vcc*(-R1 - R2)/(C*R1*R3*s - R2), I2_0: C*R1*Vcc/(C*R1*R3*s - R2), I2_1: -C*R1*Vcc/(C*R1*R3*s - R2), I3_0: C*R1*Vcc/(C*R1*R3*s - R2), I3_1: -C*R1*Vcc/(C*R1*R3*s - R2), I4_0: C*R2*Vcc/(C*R1*R3*s - R2), I4_1: -C*R2*Vcc/(C*R1*R3*s - R2), V0: C*R1*R3*Vcc/(C*R1*R3*s - R2), V1: C*R1*R3*Vcc/(C*R1*R3*s - R2), V2: C*R1*Vcc*(R2 + R3)/(C*R1*R3*s - R2), I1_3: 0, I1_4: 0}\n",
      "set()\n",
      "-------------------------------------------------\n",
      "{V2: Vcc*(R2 + R3)/R3}\n",
      "{('Op1', 'Amp'): [V2 < Vcc, V2 > -Vcc]}\n",
      "{('Op1', 'Amp'): [Vcc*(R2 + R3)/R3 < Vcc, True]}\n",
      "---\n",
      "{I0_0: -R2*Vcc*exp(R2*t/(C*R1*R3))/(R1*R3), I0_1: R2*Vcc*exp(R2*t/(C*R1*R3))/(R1*R3), I1_0: 0, I1_1: 0, I1_2: -Vcc*(R1 + R2)*exp(R2*t/(C*R1*R3))/(R1*R3), I2_0: Vcc*exp(R2*t/(C*R1*R3))/R3, I2_1: -Vcc*exp(R2*t/(C*R1*R3))/R3, I3_0: Vcc*exp(R2*t/(C*R1*R3))/R3, I3_1: -Vcc*exp(R2*t/(C*R1*R3))/R3, I4_0: R2*Vcc*exp(R2*t/(C*R1*R3))/(R1*R3), I4_1: -R2*Vcc*exp(R2*t/(C*R1*R3))/(R1*R3), V0: Vcc*exp(R2*t/(C*R1*R3)), V1: Vcc*exp(R2*t/(C*R1*R3)), V2: Vcc*(R2 + R3)*exp(R2*t/(C*R1*R3))/R3, I1_3: 0, I1_4: 0}\n",
      "Eq(Vcc*(R2 + R3)*exp(R2*t/(C*R1*R3))/R3, Vcc)\n",
      "[log((R3/(R2 + R3))**(C*R1*R3/R2))]\n",
      "False\n",
      "[]\n",
      "{'SatMax': [log((R3/(R2 + R3))**(C*R1*R3/R2))], 'SatMin': []}\n",
      "*****************************************\n",
      "{('Op1', 'SatMax')}\n",
      "[Eq(I0_0, (V1 - V2)/R1), Eq(I0_0 + I0_1, 0), Eq(I1_0, 0), Eq(I1_1, 0), Eq(I1_3, 0), Eq(I1_4, 0), Eq(V2, Vcc/s), Eq(I2_0, (-V0 + V2)/R2), Eq(I2_0 + I2_1, 0), Eq(I3_0, V0/R3), Eq(I3_0 + I3_1, 0), Eq(I4_0, C*(V1*s - Vcc)), Eq(I4_0 + I4_1, 0), Eq(I1_0 + I2_1 + I3_0, 0), Eq(I0_0 + I1_1 + I4_0, 0), Eq(I0_1 + I1_2 + I2_0, 0)]\n",
      "{('Op1', 'SatMax'): [V0 - V1 >= 0]}\n",
      "{'Amp': [V0 - V1]}\n",
      "{V1, V0}\n",
      "-------------------------------------------------\n",
      "{I0_0: 0, I0_1: 0, I1_0: 0, I1_1: 0, I1_2: -Vcc/(s*(R2 + R3)), I2_0: Vcc/(s*(R2 + R3)), I2_1: -Vcc/(s*(R2 + R3)), I3_0: Vcc/(s*(R2 + R3)), I3_1: -Vcc/(s*(R2 + R3)), I4_0: 0, I4_1: 0, V0: R3*Vcc/(s*(R2 + R3)), V1: Vcc/s, V2: Vcc/s, I1_3: 0, I1_4: 0}\n",
      "set()\n",
      "-------------------------------------------------\n",
      "{V0: R3*Vcc/(R2 + R3), V1: Vcc}\n",
      "{('Op1', 'SatMax'): [V0 - V1 >= 0]}\n",
      "{('Op1', 'SatMax'): [R3*Vcc/(R2 + R3) - Vcc >= 0]}\n",
      "---\n",
      "{I0_0: 0, I0_1: 0, I1_0: 0, I1_1: 0, I1_2: -Vcc/(R2 + R3), I2_0: Vcc/(R2 + R3), I2_1: -Vcc/(R2 + R3), I3_0: Vcc/(R2 + R3), I3_1: -Vcc/(R2 + R3), I4_0: 0, I4_1: 0, V0: R3*Vcc/(R2 + R3), V1: Vcc, V2: Vcc, I1_3: 0, I1_4: 0}\n",
      "R3*Vcc/(R2 + R3) - Vcc\n",
      "[]\n",
      "{'Amp': []}\n",
      "*****************************************\n",
      "{('Op1', 'SatMin')}\n",
      "[Eq(I0_0, (V1 - V2)/R1), Eq(I0_0 + I0_1, 0), Eq(I1_0, 0), Eq(I1_1, 0), Eq(I1_3, 0), Eq(I1_4, 0), Eq(V2, -Vcc/s), Eq(I2_0, (-V0 + V2)/R2), Eq(I2_0 + I2_1, 0), Eq(I3_0, V0/R3), Eq(I3_0 + I3_1, 0), Eq(I4_0, C*(V1*s - Vcc)), Eq(I4_0 + I4_1, 0), Eq(I1_0 + I2_1 + I3_0, 0), Eq(I0_0 + I1_1 + I4_0, 0), Eq(I0_1 + I1_2 + I2_0, 0)]\n",
      "{('Op1', 'SatMin'): [V0 - V1 <= 0]}\n",
      "{'Amp': [V0 - V1]}\n",
      "{V1, V0}\n",
      "-------------------------------------------------\n",
      "{I0_0: 2*C*Vcc/(C*R1*s + 1), I0_1: -2*C*Vcc/(C*R1*s + 1), I1_0: 0, I1_1: 0, I1_2: Vcc*(C*R1*s + 2*C*R2*s + 2*C*R3*s + 1)/(s*(C*R1*R2*s + C*R1*R3*s + R2 + R3)), I2_0: -Vcc/(s*(R2 + R3)), I2_1: Vcc/(s*(R2 + R3)), I3_0: -Vcc/(s*(R2 + R3)), I3_1: Vcc/(s*(R2 + R3)), I4_0: -2*C*Vcc/(C*R1*s + 1), I4_1: 2*C*Vcc/(C*R1*s + 1), V0: -R3*Vcc/(s*(R2 + R3)), V1: Vcc*(C*R1*s - 1)/(s*(C*R1*s + 1)), V2: -Vcc/s, I1_3: 0, I1_4: 0}\n",
      "set()\n",
      "-------------------------------------------------\n",
      "{V0: -R3*Vcc/(R2 + R3), V1: Vcc}\n",
      "{('Op1', 'SatMin'): [V0 - V1 <= 0]}\n",
      "{('Op1', 'SatMin'): [True]}\n",
      "---\n",
      "{I0_0: 2*Vcc*exp(-t/(C*R1))/R1, I0_1: -2*Vcc*exp(-t/(C*R1))/R1, I1_0: 0, I1_1: 0, I1_2: Vcc*(R1*exp(t/(C*R1)) + 2*R2 + 2*R3)*exp(-t/(C*R1))/(R1*(R2 + R3)), I2_0: -Vcc/(R2 + R3), I2_1: Vcc/(R2 + R3), I3_0: -Vcc/(R2 + R3), I3_1: Vcc/(R2 + R3), I4_0: -2*Vcc*exp(-t/(C*R1))/R1, I4_1: 2*Vcc*exp(-t/(C*R1))/R1, V0: -R3*Vcc/(R2 + R3), V1: Vcc*(2 - exp(t/(C*R1)))*exp(-t/(C*R1)), V2: -Vcc, I1_3: 0, I1_4: 0}\n",
      "-R3*Vcc/(R2 + R3) - Vcc*(2 - exp(t/(C*R1)))*exp(-t/(C*R1))\n",
      "[log((2 + 2*R3/R2)**(C*R1))]\n",
      "{'Amp': [C*R1*log(2 + 2*R3/R2)]}\n",
      "*****************************************\n",
      "218 Index Error\n"
     ]
    },
    {
     "ename": "Exception",
     "evalue": "",
     "output_type": "error",
     "traceback": [
      "\u001b[1;31m---------------------------------------------------------------------------\u001b[0m",
      "\u001b[1;31mIndexError\u001b[0m                                Traceback (most recent call last)",
      "File \u001b[1;32mc:\\Users\\Lenovo\\Desktop\\Mosfetiranje\\spiceLin\\solvers\\solverLaplace2.py:228\u001b[0m, in \u001b[0;36msolveLaplace2\u001b[1;34m(compiled, depth, simulatorState, debugLog)\u001b[0m\n\u001b[0;32m    227\u001b[0m \u001b[39mtry\u001b[39;00m:\n\u001b[1;32m--> 228\u001b[0m     states, sol, conditions \u001b[39m=\u001b[39m current_solutions[\u001b[39m0\u001b[39;49m]\n\u001b[0;32m    230\u001b[0m     sol_t \u001b[39m=\u001b[39m {}\n",
      "\u001b[1;31mIndexError\u001b[0m: list index out of range",
      "\nDuring handling of the above exception, another exception occurred:\n",
      "\u001b[1;31mException\u001b[0m                                 Traceback (most recent call last)",
      "Cell \u001b[1;32mIn[5], line 1\u001b[0m\n\u001b[1;32m----> 1\u001b[0m model \u001b[39m=\u001b[39m solveLaplace2(compiled, depth \u001b[39m=\u001b[39;49m \u001b[39m1\u001b[39;49m, debugLog \u001b[39m=\u001b[39;49m \u001b[39mTrue\u001b[39;49;00m)\n",
      "File \u001b[1;32mc:\\Users\\Lenovo\\Desktop\\Mosfetiranje\\spiceLin\\solvers\\solverLaplace2.py:347\u001b[0m, in \u001b[0;36msolveLaplace2\u001b[1;34m(compiled, depth, simulatorState, debugLog)\u001b[0m\n\u001b[0;32m    345\u001b[0m         \u001b[39mexcept\u001b[39;00m \u001b[39mIndexError\u001b[39;00m:\n\u001b[0;32m    346\u001b[0m             \u001b[39mprint\u001b[39m(\u001b[39m218\u001b[39m, \u001b[39m\"\u001b[39m\u001b[39mIndex Error\u001b[39m\u001b[39m\"\u001b[39m)\n\u001b[1;32m--> 347\u001b[0m             \u001b[39mraise\u001b[39;00m \u001b[39mException\u001b[39;00m\n\u001b[0;32m    348\u001b[0m             \u001b[39mbreak\u001b[39;00m\n\u001b[0;32m    350\u001b[0m \u001b[39mexcept\u001b[39;00m \u001b[39mKeyboardInterrupt\u001b[39;00m:\n",
      "\u001b[1;31mException\u001b[0m: "
     ]
    }
   ],
   "source": [
    "model = solveLaplace2(compiled, depth = 1, debugLog = True)"
   ]
  },
  {
   "cell_type": "code",
   "execution_count": null,
   "metadata": {},
   "outputs": [],
   "source": []
  }
 ],
 "metadata": {
  "kernelspec": {
   "display_name": "Python 3",
   "language": "python",
   "name": "python3"
  },
  "language_info": {
   "codemirror_mode": {
    "name": "ipython",
    "version": 3
   },
   "file_extension": ".py",
   "mimetype": "text/x-python",
   "name": "python",
   "nbconvert_exporter": "python",
   "pygments_lexer": "ipython3",
   "version": "3.11.1"
  },
  "orig_nbformat": 4
 },
 "nbformat": 4,
 "nbformat_minor": 2
}
